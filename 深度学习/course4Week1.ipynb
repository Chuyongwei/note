{
 "cells": [
  {
   "cell_type": "markdown",
   "metadata": {},
   "source": [
    "# 神经网络搭建"
   ]
  },
  {
   "cell_type": "markdown",
   "metadata": {
    "vscode": {
     "languageId": "plaintext"
    }
   },
   "source": [
    "这里，我们要实现一个拥有卷积层（CONV）和池化层（POOL）的网络，它包含了前向和反向传播。我们来定义一下符号：\n",
    "\n",
    "+ 上标[l]是指第l层\n",
    "  + 比如：$a^{[4]}$是指第4层的激活值。$W^{[5]}$和$b{[5]}$是指第五层的参数。\n",
    "   \n",
    "+ 上标(i)是指来自第i个样本。\n",
    "  + 比如：$x^{(i)}$是指来自输入的第i个样本\n",
    "+ 下标i是指向量的第i项\n",
    "  + 比如：$ a^{[l]}_{i}$是指来自第l层的第i个激活值，假设这是一个完全连接层（FC）。\n",
    "+ $n_H、n_W  与n_c$ 是指分别表示给定层的图像的高度、宽度和通道数。如果你想特指某一层，那么可以这样写：$n^{[l]}_H、n^{[l]}_W 与n^{[l]}_c$  \n",
    "+ $n_{H_{prev}}、n_{W_{prev}} 、n_{C_{prev}}$ 分别表示前一层的图像的高度、宽度和通道数。如果你想指定特定层l ll，那么你也可以这样写：$n^{[l-1]}_H、n_W^{[l-1]}、n_C^{[l-1]}$。\n"
   ]
  },
  {
   "cell_type": "code",
   "execution_count": 1,
   "metadata": {},
   "outputs": [],
   "source": [
    "import numpy as np\n",
    "import h5py\n",
    "import matplotlib.pyplot as plt\n",
    "\n",
    "%matplotlib inline\n",
    "plt.rcParams['figure.figsize'] = (5.0, 4.0) \n",
    "plt.rcParams['image.interpolation'] = 'nearest'\n",
    "plt.rcParams['image.cmap'] = 'gray'\n",
    "\n",
    "#ipython很好用，但是如果在ipython里已经import过的模块修改后需要重新reload就需要这样\n",
    "#在执行用户代码前，重新装入软件的扩展和模块。\n",
    "%load_ext autoreload   \n",
    "#autoreload 2：装入所有 %aimport 不包含的模块。\n",
    "%autoreload 2          \n",
    "\n",
    "np.random.seed(1)      #指定随机种子\n"
   ]
  },
  {
   "cell_type": "code",
   "execution_count": null,
   "metadata": {},
   "outputs": [],
   "source": []
  }
 ],
 "metadata": {
  "kernelspec": {
   "display_name": "mytestenv24",
   "language": "python",
   "name": "python3"
  },
  "language_info": {
   "codemirror_mode": {
    "name": "ipython",
    "version": 3
   },
   "file_extension": ".py",
   "mimetype": "text/x-python",
   "name": "python",
   "nbconvert_exporter": "python",
   "pygments_lexer": "ipython3",
   "version": "3.12.1"
  }
 },
 "nbformat": 4,
 "nbformat_minor": 2
}
