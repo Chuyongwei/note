{
 "cells": [
  {
   "cell_type": "markdown",
   "id": "9e416d8e-f751-4a76-bd68-940157a9b001",
   "metadata": {},
   "source": [
    "$$\n",
    "J = -\\frac{1}{m}\\sum^{m}_{i=1}{(y^{(i)}\\log{a^{[L](i)}}+(i-y^{9i})\\log{(1-a^{[l](i)})}})\n",
    "\\tag{1}\n",
    "$$\n",
    "\n",
    "$$\n",
    "J_{正则化} = \\underbrace{\n",
    "\t-\\frac{1}{m}\\sum^{m}_{i=1}{\n",
    "\t\ty^{(i)} \\log{(a^{[L](i)})\n",
    "\t}\n",
    "\t+\n",
    "\t(1-y^{(i)})\\log{\n",
    "\t\t(1-a^{[L](i)})})\n",
    "\t}\n",
    "}_{交叉熵成本}\n",
    "+\\underbrace{\n",
    "\t\\frac{1}{m}\\frac{\\lambda}{2}\\sum_l\\sum_k\\sum_j{W^{[l]2}_{kj}}\n",
    "}_{L2正则化成本}\n",
    "\\tag{2}\n",
    "$$"
   ]
  },
  {
   "cell_type": "code",
   "execution_count": null,
   "id": "acf7316a-2885-40d0-8dc7-a1d872a232d4",
   "metadata": {},
   "outputs": [],
   "source": []
  }
 ],
 "metadata": {
  "kernelspec": {
   "display_name": "Python 3 (ipykernel)",
   "language": "python",
   "name": "python3"
  },
  "language_info": {
   "codemirror_mode": {
    "name": "ipython",
    "version": 3
   },
   "file_extension": ".py",
   "mimetype": "text/x-python",
   "name": "python",
   "nbconvert_exporter": "python",
   "pygments_lexer": "ipython3",
   "version": "3.12.1"
  }
 },
 "nbformat": 4,
 "nbformat_minor": 5
}
