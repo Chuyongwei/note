{
 "cells": [
  {
   "cell_type": "code",
   "execution_count": 11,
   "id": "1e05a307-9a4f-4db8-b3c3-f4ebf9ffcced",
   "metadata": {},
   "outputs": [
    {
     "name": "stdout",
     "output_type": "stream",
     "text": [
      "hello World\n"
     ]
    }
   ],
   "source": [
    "test = \"hello World\"\n",
    "print(test)"
   ]
  },
  {
   "cell_type": "markdown",
   "id": "ff9aa855-8d5d-4265-8784-6d840bed965a",
   "metadata": {},
   "source": [
    "+ 运行sigmoid\n",
    "  $sigmoid(x) = \\frac{1}{1+e^{-x}}$\n",
    "  1使用math.exp()"
   ]
  },
  {
   "cell_type": "code",
   "execution_count": 13,
   "id": "99d7e003-14d7-4702-8613-8a9140ad5a2c",
   "metadata": {},
   "outputs": [
    {
     "name": "stdout",
     "output_type": "stream",
     "text": [
      "0.9820137900379085\n"
     ]
    },
    {
     "data": {
      "text/plain": [
       "0.0"
      ]
     },
     "execution_count": 13,
     "metadata": {},
     "output_type": "execute_result"
    }
   ],
   "source": [
    "import math\n",
    "import time\n",
    "\n",
    "\n",
    "def sigmoid(x):\n",
    "    md = 1/(1+math.exp(-x))\n",
    "    return md \n",
    "a = time.time()\n",
    "print(sigmoid(4))\n",
    "b = time.time()\n",
    "\n",
    "b-a\n"
   ]
  },
  {
   "cell_type": "code",
   "execution_count": 14,
   "id": "a4d26c17-e456-4506-8c60-079b18115be3",
   "metadata": {},
   "outputs": [
    {
     "name": "stdout",
     "output_type": "stream",
     "text": [
      "0.9820137900379085\n"
     ]
    },
    {
     "data": {
      "text/plain": [
       "0.0"
      ]
     },
     "execution_count": 14,
     "metadata": {},
     "output_type": "execute_result"
    }
   ],
   "source": [
    "import numpy as np\n",
    "import time\n",
    "\n",
    "\n",
    "def sigmoid(x):\n",
    "    md = 1/(1+np.exp(-x))\n",
    "    return md \n",
    "a = time.time()\n",
    "print(sigmoid(4))\n",
    "b = time.time()\n",
    "\n",
    "b-a"
   ]
  },
  {
   "cell_type": "markdown",
   "id": "f1ed9802-c458-4b20-8911-191d6aeb1814",
   "metadata": {},
   "source": [
    "> 此时是没有问题的,但是如果参数是向量呢？"
   ]
  },
  {
   "cell_type": "code",
   "execution_count": 19,
   "id": "0f98b961-dac0-44a5-b46d-200bfafd1784",
   "metadata": {},
   "outputs": [
    {
     "ename": "TypeError",
     "evalue": "bad operand type for unary -: 'list'",
     "output_type": "error",
     "traceback": [
      "\u001b[1;31m---------------------------------------------------------------------------\u001b[0m",
      "\u001b[1;31mTypeError\u001b[0m                                 Traceback (most recent call last)",
      "Cell \u001b[1;32mIn[19], line 13\u001b[0m\n\u001b[0;32m     10\u001b[0m     \u001b[38;5;28;01mreturn\u001b[39;00m md \n\u001b[0;32m     12\u001b[0m x \u001b[38;5;241m=\u001b[39m [\u001b[38;5;241m1\u001b[39m,\u001b[38;5;241m4\u001b[39m,\u001b[38;5;241m2\u001b[39m]\n\u001b[1;32m---> 13\u001b[0m \u001b[43msigmoidma\u001b[49m\u001b[43m(\u001b[49m\u001b[43mx\u001b[49m\u001b[43m)\u001b[49m\n\u001b[0;32m     15\u001b[0m x \u001b[38;5;241m=\u001b[39m np\u001b[38;5;241m.\u001b[39marray([\u001b[38;5;241m4\u001b[39m,\u001b[38;5;241m2\u001b[39m,\u001b[38;5;241m5\u001b[39m])\n\u001b[0;32m     16\u001b[0m sigmoidnp(x)\n",
      "Cell \u001b[1;32mIn[19], line 5\u001b[0m, in \u001b[0;36msigmoidma\u001b[1;34m(x)\u001b[0m\n\u001b[0;32m      4\u001b[0m \u001b[38;5;28;01mdef\u001b[39;00m \u001b[38;5;21msigmoidma\u001b[39m(x):\n\u001b[1;32m----> 5\u001b[0m     md \u001b[38;5;241m=\u001b[39m \u001b[38;5;241m1\u001b[39m\u001b[38;5;241m/\u001b[39m(\u001b[38;5;241m1\u001b[39m\u001b[38;5;241m+\u001b[39mmath\u001b[38;5;241m.\u001b[39mexp(\u001b[38;5;241;43m-\u001b[39;49m\u001b[43mx\u001b[49m))\n\u001b[0;32m      6\u001b[0m     \u001b[38;5;28;01mreturn\u001b[39;00m md\n",
      "\u001b[1;31mTypeError\u001b[0m: bad operand type for unary -: 'list'"
     ]
    }
   ],
   "source": [
    "import time\n",
    "import numpy as np\n",
    "\n",
    "def sigmoidma(x):\n",
    "    md = 1/(1+math.exp(-x))\n",
    "    return md \n",
    "\n",
    "def sigmoidnp(x):\n",
    "    md = 1/(1+np.exp(-x))\n",
    "    return md \n",
    "\n",
    "x = [1,4,2]\n",
    "# sigmoidma(x)\n",
    "\n",
    "x = np.array([4,2,5])\n",
    "sigmoidnp(x)"
   ]
  },
  {
   "cell_type": "markdown",
   "id": "019d1c77-86e6-495b-9185-ab624cd1b0aa",
   "metadata": {},
   "source": [
    "## 梯度函数\n",
    "\n",
    "创建函数sigmoid_grad（）计算sigmoid函数相对于其输入x的梯度。 公式为：$sigmoid\\_derivative(x) = \\sigma'(x) = \\sigma(x) (1 - \\sigma(x))\\tag{2}$\n",
    "我们通常分两步编写此函数代码：\n",
    "\n",
    "1.将s设为x的sigmoid。 你可能会发现sigmoid（x）函数很方便。\n",
    "\n",
    "2.计算$\\sigma'(x) = s(1-s)$"
   ]
  },
  {
   "cell_type": "code",
   "execution_count": 22,
   "id": "06814ae2-9854-4e87-81cf-d4fe1952f594",
   "metadata": {},
   "outputs": [
    {
     "name": "stdout",
     "output_type": "stream",
     "text": [
      "0.045176659730912\n"
     ]
    }
   ],
   "source": [
    "import numpy as np\n",
    "\n",
    "def sigmoid(x):\n",
    "    md = 1/(1+np.exp(-x))\n",
    "    return md \n",
    "\n",
    "def sigmoid_grad(x):\n",
    "    re = sigmoid(x)*(1-sigmoid(x))\n",
    "    return re \n",
    "\n",
    "print(sigmoid_grad(3))"
   ]
  },
  {
   "cell_type": "markdown",
   "id": "503e393c-d300-484a-92c3-f44c438e513c",
   "metadata": {},
   "source": [
    "## 重塑数组\n",
    "\n",
    "\n",
    "**练习**：实现image2vector() ,该输入采用维度为(length, height, 3)的输入，并返回维度为(length*height*3, 1)的向量。例如，如果你想将形为（a，b，c）的数组v重塑为维度为(a*b, 3)的向量，则可以执行以下操作：\n"
   ]
  },
  {
   "cell_type": "code",
   "execution_count": 5,
   "id": "f3930c5d-0606-49f9-a6f1-46b02b713606",
   "metadata": {},
   "outputs": [
    {
     "name": "stdout",
     "output_type": "stream",
     "text": [
      "(3, 3, 2)\n",
      "[[0.67826139 0.29380381]\n",
      " [0.90714982 0.52835647]\n",
      " [0.4215251  0.45017551]\n",
      " [0.92814219 0.96677647]\n",
      " [0.85304703 0.52351845]\n",
      " [0.19981397 0.27417313]\n",
      " [0.60659855 0.00533165]\n",
      " [0.10820313 0.49978937]\n",
      " [0.34144279 0.94630077]]\n"
     ]
    }
   ],
   "source": [
    "import numpy as np\n",
    "\n",
    "def image2vector(v):\n",
    "    return v.reshape((v.shape[0]*v.shape[1]),v.shape[2])\n",
    "    \n",
    "image = np.array([[[ 0.67826139,  0.29380381],\n",
    "        [ 0.90714982,  0.52835647],\n",
    "        [ 0.4215251 ,  0.45017551]],\n",
    "\n",
    "       [[ 0.92814219,  0.96677647],\n",
    "        [ 0.85304703,  0.52351845],\n",
    "        [ 0.19981397,  0.27417313]],\n",
    "\n",
    "       [[ 0.60659855,  0.00533165],\n",
    "        [ 0.10820313,  0.49978937],\n",
    "        [ 0.34144279,  0.94630077]]])\n",
    "\n",
    "print(image.shape)\n",
    "\n",
    "print(image2vector(image))\n",
    "    "
   ]
  },
  {
   "cell_type": "markdown",
   "id": "56bdfb9c-f0bd-4636-b7a9-098dfc1c280d",
   "metadata": {},
   "source": [
    "## 行标准化\n",
    "我们在机器学习和深度学习中使用的另一种常见技术是对数据进行标准化。 由于归一化后梯度下降的收敛速度更快，通常会表现出更好的效果。 通过归一化，也就是将x更改为$\\frac{x}{\\| x\\|}$（将x的每个行向量除以其范数）。\n",
    "\n",
    "\n",
    "例如：\n",
    "\n",
    "then\n",
    "and\n",
    "\n",
    "请注意，你可以划分不同大小的矩阵，以获得更好的效果：这称为broadcasting，我们将在第5部分中学习它。"
   ]
  },
  {
   "cell_type": "code",
   "execution_count": 7,
   "id": "ca535283-2757-435e-9383-b4215544d3c3",
   "metadata": {},
   "outputs": [
    {
     "data": {
      "text/plain": [
       "array([[0.        , 0.6       , 0.8       ],\n",
       "       [0.13736056, 0.82416338, 0.54944226]])"
      ]
     },
     "execution_count": 7,
     "metadata": {},
     "output_type": "execute_result"
    }
   ],
   "source": [
    "def normalizeRows(x):\n",
    "    x_norm = np.linalg.norm(x, axis = 1, keepdims = True)\n",
    "    return x/x_norm\n",
    "\n",
    "x = np.array([\n",
    "    [0, 3, 4],\n",
    "    [1, 6, 4]])\n",
    "\n",
    "normalizeRows(x)"
   ]
  },
  {
   "cell_type": "markdown",
   "id": "05d16961-64fa-41c7-be31-87172ff1a2c4",
   "metadata": {},
   "source": [
    "## 广播\n",
    "\n",
    "在numpy中要理解的一个非常重要的概念是“广播”。 这对于在不同形状的数组之间执行数学运算非常有用。 有关广播的完整详细信息，你可以阅读官方的broadcasting documentation.\n",
    "\n",
    "练习: 使用numpy实现softmax函数。 你可以将softmax理解为算法需要对两个或多个类进行分类时使用的标准化函数。 你将在本专业的第二门课中了解有关softmax的更多信息。"
   ]
  },
  {
   "cell_type": "code",
   "execution_count": 9,
   "id": "9ccb0098-52e7-408b-8d95-462d50bd11a8",
   "metadata": {},
   "outputs": [
    {
     "name": "stdout",
     "output_type": "stream",
     "text": [
      "softmax(x) = [[9.80897665e-01 8.94462891e-04 1.79657674e-02 1.21052389e-04\n",
      "  1.21052389e-04]\n",
      " [8.78679856e-01 1.18916387e-01 8.01252314e-04 8.01252314e-04\n",
      "  8.01252314e-04]]\n"
     ]
    }
   ],
   "source": [
    "def softmax(x):\n",
    "\n",
    "    # sigmoid()\n",
    "    x_exp = np.exp(x)\n",
    "\n",
    "    # Create a vector x_sum that sums each row of x_exp. Use np.sum(..., axis = 1, keepdims = True).\n",
    "    x_sum = np.sum(x_exp, axis = 1, keepdims = True)\n",
    "    \n",
    "    # Compute softmax(x) by dividing x_exp by x_sum. It should automatically use numpy broadcasting.\n",
    "    s = x_exp / x_sum\n",
    "\n",
    "    ### END CODE HERE ###\n",
    "    \n",
    "    return s\n",
    "\n",
    "x = np.array([\n",
    "    [9, 2, 5, 0, 0],\n",
    "    [7, 5, 0, 0 ,0]])\n",
    "print(\"softmax(x) = \" + str(softmax(x)))"
   ]
  },
  {
   "cell_type": "markdown",
   "id": "3e9f1f3e-ec45-487e-a959-30334e3bcf03",
   "metadata": {},
   "source": [
    "## 最后我们进行一下总结\n",
    "\n",
    "你需要记住的内容：\n",
    "\n",
    "- np.exp（x）适用于任何np.array x并将指数函数应用于每个坐标\n",
    "\n",
    "- sigmoid函数及其梯度\n",
    "\n",
    "- image2vector通常用于深度学习\n",
    "\n",
    "- np.reshape被广泛使用。 保持矩阵/向量尺寸不变有助于我们消除许多错误。\n",
    "\n",
    "- numpy具有高效的内置功能\n",
    "\n",
    "- broadcasting非常有用"
   ]
  }
 ],
 "metadata": {
  "kernelspec": {
   "display_name": "Python 3 (ipykernel)",
   "language": "python",
   "name": "python3"
  },
  "language_info": {
   "codemirror_mode": {
    "name": "ipython",
    "version": 3
   },
   "file_extension": ".py",
   "mimetype": "text/x-python",
   "name": "python",
   "nbconvert_exporter": "python",
   "pygments_lexer": "ipython3",
   "version": "3.12.1"
  }
 },
 "nbformat": 4,
 "nbformat_minor": 5
}
