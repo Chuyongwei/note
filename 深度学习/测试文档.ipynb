{
 "cells": [
  {
   "cell_type": "code",
   "execution_count": 2,
   "id": "c3faf1f8-28a5-43cf-a2cd-fea855edb877",
   "metadata": {},
   "outputs": [
    {
     "name": "stdout",
     "output_type": "stream",
     "text": [
      "20\n"
     ]
    }
   ],
   "source": [
    "import numpy as np\n",
    "\n",
    "a = np.array([1,2,3])\n",
    "b = np.array([2,3,4])\n",
    "# 矩阵的点乘\n",
    "print(str(np.dot(a,b)))\n"
   ]
  },
  {
   "cell_type": "code",
   "execution_count": 3,
   "id": "84bbe743-c0a3-4006-8cc1-5df4b505f3c2",
   "metadata": {},
   "outputs": [
    {
     "data": {
      "text/plain": [
       "1.3862943611198906"
      ]
     },
     "execution_count": 3,
     "metadata": {},
     "output_type": "execute_result"
    }
   ],
   "source": [
    "np.log(4)"
   ]
  },
  {
   "cell_type": "code",
   "execution_count": 5,
   "id": "84c7c186-7eff-4733-945b-6e89af980bd3",
   "metadata": {},
   "outputs": [
    {
     "name": "stdout",
     "output_type": "stream",
     "text": [
      "xx= [[1 2 3 4]\n",
      " [1 2 3 4]\n",
      " [1 2 3 4]]\n",
      "yy= [[7 7 7 7]\n",
      " [6 6 6 6]\n",
      " [5 5 5 5]]\n"
     ]
    }
   ],
   "source": [
    "xvalues = np.array([1, 2, 3, 4])\n",
    "yvalues = np.array([7, 6, 5])\n",
    "\n",
    "xx, yy = np.meshgrid(xvalues.T, yvalues)\n",
    "\n",
    "print('xx=', xx)\n",
    "print('yy=', yy)"
   ]
  },
  {
   "cell_type": "code",
   "execution_count": 9,
   "id": "43084ca6-6648-4d9b-99e2-8ddf871f6928",
   "metadata": {},
   "outputs": [
    {
     "data": {
      "text/plain": [
       "array([[1, 2],\n",
       "       [3, 4],\n",
       "       [7, 6],\n",
       "       [5, 8]])"
      ]
     },
     "execution_count": 9,
     "metadata": {},
     "output_type": "execute_result"
    }
   ],
   "source": [
    "xvalues = np.array([[1, 2, 3, 4],[7, 6, 5,8]])\n",
    "xvalues.reshape(4,2)\n",
    "# print(xvalues)"
   ]
  },
  {
   "cell_type": "code",
   "execution_count": null,
   "id": "e14678bf-71e1-4ab5-979f-85ac86a41dc2",
   "metadata": {},
   "outputs": [],
   "source": []
  }
 ],
 "metadata": {
  "kernelspec": {
   "display_name": "Python 3 (ipykernel)",
   "language": "python",
   "name": "python3"
  },
  "language_info": {
   "codemirror_mode": {
    "name": "ipython",
    "version": 3
   },
   "file_extension": ".py",
   "mimetype": "text/x-python",
   "name": "python",
   "nbconvert_exporter": "python",
   "pygments_lexer": "ipython3",
   "version": "3.12.1"
  }
 },
 "nbformat": 4,
 "nbformat_minor": 5
}
