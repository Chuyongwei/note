{
 "cells": [
  {
   "cell_type": "markdown",
   "id": "b739d3d2-658f-4dfe-b9f9-d02b23516474",
   "metadata": {},
   "source": [
    "# 繁琐项目简化\n",
    "\n",
    "## 正则"
   ]
  },
  {
   "cell_type": "code",
   "execution_count": null,
   "id": "8d34390f-e8c6-4465-9c6d-cfa61e471b31",
   "metadata": {},
   "outputs": [],
   "source": [
    "def "
   ]
  }
 ],
 "metadata": {
  "kernelspec": {
   "display_name": "Python 3 (ipykernel)",
   "language": "python",
   "name": "python3"
  },
  "language_info": {
   "codemirror_mode": {
    "name": "ipython",
    "version": 3
   },
   "file_extension": ".py",
   "mimetype": "text/x-python",
   "name": "python",
   "nbconvert_exporter": "python",
   "pygments_lexer": "ipython3",
   "version": "3.12.1"
  }
 },
 "nbformat": 4,
 "nbformat_minor": 5
}
