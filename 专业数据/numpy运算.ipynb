{
 "cells": [
  {
   "cell_type": "code",
   "execution_count": 4,
   "id": "d948c8b2-2301-41fe-9b41-02313f08ce93",
   "metadata": {},
   "outputs": [
    {
     "name": "stdout",
     "output_type": "stream",
     "text": [
      "[11 12 13 14 15 16 17 18 19]\n",
      "[10 20 30 40 50 60 70 80 90]\n"
     ]
    }
   ],
   "source": [
    "import numpy as np\n",
    "array1 = np.arange(1, 10)\n",
    "print(array1 + 10)\n",
    "print(array1 * 10)"
   ]
  },
  {
   "cell_type": "code",
   "execution_count": 5,
   "id": "8a4ee55e-a4f0-4e22-b2e0-7371301ebbc0",
   "metadata": {},
   "outputs": [
    {
     "name": "stdout",
     "output_type": "stream",
     "text": [
      "[False False False False False  True  True  True  True]\n",
      "[False  True False  True False  True False  True False]\n"
     ]
    }
   ],
   "source": [
    "print(array1 > 5)\n",
    "print(array1 % 2 == 0)"
   ]
  },
  {
   "cell_type": "code",
   "execution_count": 6,
   "id": "094ea46d-85ee-4486-8ca3-b4f551706068",
   "metadata": {},
   "outputs": [
    {
     "name": "stdout",
     "output_type": "stream",
     "text": [
      "[ 2  3  4  6  7  8 10 11 12]\n",
      "[ 1  2  3  8 10 12 21 24 27]\n",
      "[  1   2   3  16  25  36 343 512 729]\n"
     ]
    }
   ],
   "source": [
    "array2 = np.array([1, 1, 1, 2, 2, 2, 3, 3, 3])\n",
    "print(array1 + array2)\n",
    "print(array1 * array2)\n",
    "print(array1 ** array2)"
   ]
  },
  {
   "cell_type": "markdown",
   "id": "6f43707b-4e33-423e-be6c-fdb1218fe69d",
   "metadata": {},
   "source": [
    "## 兼容"
   ]
  },
  {
   "cell_type": "code",
   "execution_count": 7,
   "id": "e92c7555-7bbb-44c5-b666-c5a24ba1e3ea",
   "metadata": {},
   "outputs": [
    {
     "data": {
      "text/plain": [
       "array([[1, 2, 3],\n",
       "       [2, 3, 4],\n",
       "       [3, 4, 5],\n",
       "       [4, 5, 6]])"
      ]
     },
     "execution_count": 7,
     "metadata": {},
     "output_type": "execute_result"
    }
   ],
   "source": [
    "array5 = np.array([[0, 0, 0], [1, 1, 1], [2, 2, 2], [3, 3, 3]])\n",
    "array6 = np.array([1, 2, 3])\n",
    "array5 + array6"
   ]
  },
  {
   "cell_type": "markdown",
   "id": "2ae86a24-9559-4ada-930b-0ab724a0beb0",
   "metadata": {},
   "source": [
    "## 向量的运算"
   ]
  },
  {
   "cell_type": "markdown",
   "id": "588d5cb3-7c17-483b-a1fc-31f3b7f0f0a6",
   "metadata": {},
   "source": [
    "## 点乘\n",
    "\n",
    "乘积/模长"
   ]
  },
  {
   "cell_type": "code",
   "execution_count": 2,
   "id": "a1341895-887a-42db-b195-cc5dc027f62d",
   "metadata": {},
   "outputs": [
    {
     "name": "stdout",
     "output_type": "stream",
     "text": [
      "0.7302967433402215\n",
      "0.9704311900788593\n"
     ]
    }
   ],
   "source": [
    "import numpy as np\n",
    "u = np.array([5, 1, 3])\n",
    "m1 = np.array([4, 5, 1])\n",
    "m2 = np.array([5, 1, 5])\n",
    "print(np.dot(u, m1) / (np.linalg.norm(u) * np.linalg.norm(m1)))  # 0.7302967433402214\n",
    "print(np.dot(u, m2) / (np.linalg.norm(u) * np.linalg.norm(m2)))  # 0.9704311900788593"
   ]
  },
  {
   "cell_type": "markdown",
   "id": "e807d8ab-7461-4cbd-82d4-0333b7498b71",
   "metadata": {},
   "source": [
    "## 叉积\n",
    "\n",
    "二维矩阵的\n",
    "$$\\boldsymbol{A} = \\begin{pmatrix} a_{1} \\\\ a_{2} \\end{pmatrix}, \\quad \\boldsymbol{B} = \\begin{pmatrix} b_{1} \\\\ b_{2} \\end{pmatrix} \\\\\n",
    "\\boldsymbol{A} \\times \\boldsymbol{B} = \\begin{vmatrix} a_{1} \\quad a_{2} \\\\ b_{1} \\quad b_{2} \\end{vmatrix} = a_{1}b_{2} - a_{2}b_{1}$$\n",
    "\n",
    "三维矩阵的\n",
    "$$\\boldsymbol{A} = \\begin{pmatrix} a_{1} \\\\ a_{2} \\\\ a_{3} \\end{pmatrix}, \\quad \\boldsymbol{B} = \\begin{pmatrix} b_{1} \\\\ b_{2} \\\\ b_{3} \\end{pmatrix} \\\\\n",
    "\\boldsymbol{A} \\times \\boldsymbol{B} = \\begin{vmatrix} \\boldsymbol{\\hat{i}} \\quad \\boldsymbol{\\hat{j}} \\quad \\boldsymbol{\\hat{k}} \\\\ a_{1} \\quad a_{2} \\quad a_{3} \\\\ b_{1} \\quad b_{2} \\quad b_{3} \\end{vmatrix} = \\langle \\boldsymbol{\\hat{i}}\\begin{vmatrix} a_{2} \\quad a_{3} \\\\ b_{2} \\quad b_{3} \\end{vmatrix}, -\\boldsymbol{\\hat{j}}\\begin{vmatrix} a_{1} \\quad a_{3} \\\\ b_{1} \\quad b_{3} \\end{vmatrix}, \\boldsymbol{\\hat{k}}\\begin{vmatrix} a_{1} \\quad a_{2} \\\\ b_{1} \\quad b_{2} \\end{vmatrix} \\rangle$$"
   ]
  },
  {
   "cell_type": "code",
   "execution_count": 3,
   "id": "5a4f76d0-0e23-4eba-a313-aab60e1ad508",
   "metadata": {},
   "outputs": [
    {
     "name": "stdout",
     "output_type": "stream",
     "text": [
      "[-14   7  21]\n",
      "[ 14  -7 -21]\n"
     ]
    }
   ],
   "source": [
    "print(np.cross(u, m1))  # [-14   7  21]\n",
    "print(np.cross(m1, u))  # [ 14  -7 -21]"
   ]
  },
  {
   "cell_type": "markdown",
   "id": "5068bab5-900b-4720-897d-3330d8314240",
   "metadata": {},
   "source": [
    "#### 行列式的性质\n",
    "\n",
    "行列式是由向量引出的，所以行列式解释的其实是向量的性质。\n",
    "\n",
    "**性质1**：如果$det(\\boldsymbol{A})$中某行（或某列）的元素全部为0，那么$det(\\boldsymbol{A}) = 0$。\n",
    "\n",
    "**性质2**：如果$det(\\boldsymbol{A})$中某行（或某列）有公共因子$k$，则可以提出$k$，得到行列式$det(\\boldsymbol{A^{'}})$，且$det(\\boldsymbol{A}) = k \\cdot det(\\boldsymbol{A^{'}})$。\n",
    "$$\n",
    "det(\\boldsymbol{A})={\\begin{vmatrix}a_{11}&a_{12}&\\dots &a_{1n}\\\\\\vdots &\\vdots &\\ddots &\\vdots \\\\{\\color {blue}k}a_{i1}&{\\color {blue}k}a_{i2}&\\dots &{\\color {blue}k}a_{in}\\\\\\vdots &\\vdots &\\ddots &\\vdots \\\\a_{n1}&a_{n2}&\\dots &a_{nn}\\end{vmatrix}}={\\color {blue}k}{\\begin{vmatrix}a_{11}&a_{12}&\\dots &a_{1n}\\\\\\vdots &\\vdots &\\ddots &\\vdots \\\\a_{i1}&a_{i2}&\\dots &a_{in}\\\\\\vdots &\\vdots &\\ddots &\\vdots \\\\a_{n1}&a_{n2}&\\dots &a_{nn}\\end{vmatrix}}={\\color {blue}k} \\cdot det(\\boldsymbol{A^{'}})\n",
    "$$\n",
    "\n",
    "**性质3**：如果$det(\\boldsymbol{A})$中某行（或某列）的每个元素是两数之和，则此行列式可拆分为两个行列式相加，如下所示。\n",
    "$$\n",
    "{\\begin{vmatrix}a_{11}&a_{12}&\\dots &a_{1n}\\\\\\vdots &\\vdots &\\ddots &\\vdots \\\\{\\color {blue}a_{i1}}+{\\color {OliveGreen}b_{i1}}&{\\color {blue}a_{i2}}+{\\color {OliveGreen}b_{i2}}&\\dots &{\\color {blue}a_{in}}+{\\color {OliveGreen}b_{in}}\\\\\\vdots &\\vdots &\\ddots &\\vdots \\\\a_{n1}&a_{n2}&\\dots &a_{nn}\\end{vmatrix}}={\\begin{vmatrix}a_{11}&a_{12}&\\dots &a_{1n}\\\\\\vdots &\\vdots &\\ddots &\\vdots \\\\{\\color {blue}a_{i1}}&{\\color {blue}a_{i2}}&\\dots &{\\color {blue}a_{in}}\\\\\\vdots &\\vdots &\\ddots &\\vdots \\\\a_{n1}&a_{n2}&\\dots &a_{nn}\\end{vmatrix}}+{\\begin{vmatrix}a_{11}&a_{12}&\\dots &a_{1n}\\\\\\vdots &\\vdots &\\ddots &\\vdots \\\\{\\color {OliveGreen}b_{i1}}&{\\color {OliveGreen}b_{i2}}&\\dots &{\\color {OliveGreen}b_{in}}\\\\\\vdots &\\vdots &\\ddots &\\vdots \\\\a_{n1}&a_{n2}&\\dots &a_{nn}\\end{vmatrix}}\n",
    "$$\n",
    "**性质4**：如果$det(\\boldsymbol{A})$中两行（或两列）元素对应成比例，那么$det(\\boldsymbol{A}) = 0$。\n",
    "\n",
    "**性质5**：如果$det(\\boldsymbol{A})$中两行（或两列）互换得到$det(\\boldsymbol{A^{'}})$，那么$det(\\boldsymbol{A}) = -det(\\boldsymbol{A^{'}})$。\n",
    "\n",
    "**性质6**：将$det(\\boldsymbol{A})$中某行（或某列）的$k$倍加进另一行（或另一列）里，行列式的值不变，如下所示。\n",
    "$$\n",
    "{\\begin{vmatrix}\\vdots &\\vdots &\\vdots &\\vdots \\\\a_{i1}&a_{i2}&\\dots &a_{in}\\\\a_{j1}&a_{j2}&\\dots &a_{jn}\\\\\\vdots &\\vdots &\\vdots &\\vdots \\\\\\end{vmatrix}}={\\begin{vmatrix}\\vdots &\\vdots &\\vdots &\\vdots \\\\a_{i1}&a_{i2}&\\dots &a_{in}\\\\a_{j1}{\\color {blue}+ka_{i1}}&a_{j2}{\\color {blue}+ka_{i2}}&\\dots &a_{jn}{\\color {blue}+ka_{in}}\\\\\\vdots &\\vdots &\\vdots &\\vdots \\\\\\end{vmatrix}}\n",
    "$$\n",
    "**性质7**：将行列式的行列互换，行列式的值不变，如下所示。\n",
    "$$\n",
    "{\\begin{vmatrix}a_{11}&a_{12}&\\dots &a_{1n}\\\\a_{21}&a_{22}&\\dots &a_{2n}\\\\\\vdots &\\vdots &\\ddots &\\vdots \\\\a_{n1}&a_{n2}&\\dots &a_{nn}\\end{vmatrix}}={\\begin{vmatrix}a_{11}&a_{21}&\\dots &a_{n1}\\\\a_{12}&a_{22}&\\dots &a_{n2}\\\\\\vdots &\\vdots &\\ddots &\\vdots \\\\a_{1n}&a_{2n}&\\dots &a_{nn}\\end{vmatrix}}\n",
    "$$\n",
    "**性质8**：方块矩阵$\\boldsymbol{A}$和$\\boldsymbol{B}$的乘积的行列式等于其行列式的乘积，即$det(\\boldsymbol{A}\\boldsymbol{B}) = det(\\boldsymbol{A})det(\\boldsymbol{B})$。特别的，若将矩阵中的每一行都乘以常数$r$，那么行列式的值将是原来的$r^{n}$倍，即$det(r\\boldsymbol{A}) = det(r\\boldsymbol{I_{n}} \\cdot \\boldsymbol{A}) = r^{n}det(\\boldsymbol{A})$，其中$\\boldsymbol{I_{n}}$是$n$阶单位矩阵。\n",
    "\n",
    "**性质9**：若$\\boldsymbol{A}$是可逆矩阵，那么$det(\\boldsymbol{A}^{-1}) = (det(\\boldsymbol{A}))^{-1}$。\n",
    "\n",
    "#### 行列式的计算\n",
    "\n",
    "$n$阶行列式的计算公式如下所示：\n",
    "$$\n",
    "det(\\boldsymbol{A})=\\sum_{n!} \\pm {a_{1\\alpha}a_{2\\beta} \\cdots a_{n\\omega}}\n",
    "$$\n",
    "\n",
    "对于二阶行列式，上面的公式相当于：\n",
    "$$\n",
    "\\begin{vmatrix} a_{11} \\quad a_{12} \\\\ a_{21} \\quad a_{22} \\end{vmatrix} = a_{11}a_{22} - a_{12}a_{21}\n",
    "$$\n",
    "对于三阶行列式，上面的计算公式相当于：\n",
    "$$\n",
    "\\begin{vmatrix} a_{11} \\quad a_{12} \\quad a_{13} \\\\ a_{21} \\quad a_{22} \\quad a_{23} \\\\ a_{31} \\quad a_{32} \\quad a_{33} \\end{vmatrix} = a_{11}a_{22}a_{33} + a_{12}a_{23}a_{31} + a_{13}a_{21}a_{32} - a_{11}a_{23}a_{32} - a_{12}a_{21}a_{33} - a_{13}a_{22}a_{31}\n",
    "$$\n",
    "高阶行列式可以用**代数余子式**（*cofactor*）展开成多个低阶行列式，如下所示：\n",
    "$$\n",
    "det(\\boldsymbol{A})=a_{11}C_{11}+a_{12}C_{12}+ \\cdots +a_{1n}C_{1n} = \\sum_{i=1}^{n}{a_{1i}C_{1i}}\n",
    "$$\n",
    "其中，$C_{11}$是原行列式去掉$a_{11}$所在行和列之后剩余的部分构成的行列式，以此类推。\n",
    "\n"
   ]
  },
  {
   "cell_type": "markdown",
   "id": "4fcc0607-0645-477d-b020-0ab6881881f8",
   "metadata": {},
   "source": [
    "## 矩阵\n",
    "\n",
    "NumPy 中提供了专门用于线性代数（*linear algebra*）的模块和表示矩阵的类型`matrix`，当然我们通过二维数组也可以表示一个矩阵，官方并不推荐使用`matrix`类而是建议使用二维数组，而且有可能在将来的版本中会移除`matrix`类。无论如何，利用这些已经封装好的类和函数，我们可以轻松愉快的实现很多对矩阵的操作。"
   ]
  },
  {
   "cell_type": "code",
   "execution_count": 6,
   "id": "15ab4ff4-365f-4867-8057-c70dab0557af",
   "metadata": {},
   "outputs": [
    {
     "data": {
      "text/plain": [
       "matrix([[1, 2, 3],\n",
       "        [4, 5, 6]])"
      ]
     },
     "execution_count": 6,
     "metadata": {},
     "output_type": "execute_result"
    }
   ],
   "source": [
    "m1 = np.matrix('1 2 3; 4 5 6')\n",
    "m1"
   ]
  },
  {
   "cell_type": "code",
   "execution_count": 7,
   "id": "b32412e4-6865-40d5-9ff5-3d15bb55bf5f",
   "metadata": {},
   "outputs": [
    {
     "data": {
      "text/plain": [
       "matrix([[1, 1],\n",
       "        [2, 2],\n",
       "        [3, 3]])"
      ]
     },
     "execution_count": 7,
     "metadata": {},
     "output_type": "execute_result"
    }
   ],
   "source": [
    "m2 = np.asmatrix(np.array([[1, 1], [2, 2], [3, 3]]))\n",
    "m2"
   ]
  },
  {
   "cell_type": "markdown",
   "id": "87edc51a-e0b3-4123-bf59-441a6e347277",
   "metadata": {},
   "source": [
    "> **说明**：注意`matrix`对象和`ndarray`对象乘法运算的差别，`matrix`对象的`*`运算是矩阵乘法运算。如果两个二维数组要做矩阵乘法运算，应该使用`@`运算符或`matmul`函数，而不是`*`运算符。\n",
    "\n",
    "矩阵对象的属性如下表所示。\n",
    "\n",
    "| 属性    | 说明                                      |\n",
    "| ------- | ----------------------------------------- |\n",
    "| `A`     | 获取矩阵对象对应的`ndarray`对象           |\n",
    "| `A1`    | 获取矩阵对象对应的扁平化后的`ndarray`对象 |\n",
    "| `I`     | 可逆矩阵的逆矩阵                          |\n",
    "| `T`     | 矩阵的转置                                |\n",
    "| `H`     | 矩阵的共轭转置                            |\n",
    "| `shape` | 矩阵的形状                                |\n",
    "| `size`  | 矩阵元素的个数                            |\n",
    "\n",
    "矩阵对象的方法跟之前讲过的`ndarray`数组对象的方法基本差不多，此处不再进行赘述。"
   ]
  },
  {
   "cell_type": "code",
   "execution_count": null,
   "id": "b570b64a-c86d-403b-943f-4b093317a771",
   "metadata": {},
   "outputs": [],
   "source": []
  }
 ],
 "metadata": {
  "kernelspec": {
   "display_name": "Python 3 (ipykernel)",
   "language": "python",
   "name": "python3"
  },
  "language_info": {
   "codemirror_mode": {
    "name": "ipython",
    "version": 3
   },
   "file_extension": ".py",
   "mimetype": "text/x-python",
   "name": "python",
   "nbconvert_exporter": "python",
   "pygments_lexer": "ipython3",
   "version": "3.12.1"
  }
 },
 "nbformat": 4,
 "nbformat_minor": 5
}
