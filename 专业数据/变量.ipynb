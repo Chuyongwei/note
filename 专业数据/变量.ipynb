{
 "cells": [
  {
   "cell_type": "markdown",
   "id": "54a472a2-c905-47d5-9933-826eb057cad9",
   "metadata": {},
   "source": [
    "# 字符类型"
   ]
  },
  {
   "cell_type": "code",
   "execution_count": 1,
   "id": "79bc7c85-a963-40f2-8c14-4be96beaef7a",
   "metadata": {
    "scrolled": true
   },
   "outputs": [
    {
     "name": "stdout",
     "output_type": "stream",
     "text": [
      "Ada Loveace\n",
      "ADA LOVEACE\n",
      "ada loveace\n"
     ]
    }
   ],
   "source": [
    "name = \"ada loveace\"\n",
    "print(name.title()) #首字母大写\n",
    "print(name.upper()) #大写\n",
    "print(name.lower()) # 小写"
   ]
  },
  {
   "cell_type": "code",
   "execution_count": 2,
   "id": "a97fa057-077b-4d0c-a709-8b8bb132a431",
   "metadata": {},
   "outputs": [
    {
     "name": "stdout",
     "output_type": "stream",
     "text": [
      "ada loveace\n"
     ]
    }
   ],
   "source": [
    "first_name = \"ada\"\n",
    "last_name = \"loveace\"\n",
    "full_name = first_name+\" \"+last_name\n",
    "print(full_name)"
   ]
  },
  {
   "cell_type": "code",
   "execution_count": 3,
   "id": "31ab1f07-9ffa-4948-88a6-9e2be4882399",
   "metadata": {},
   "outputs": [
    {
     "name": "stdout",
     "output_type": "stream",
     "text": [
      "python          loveace\n",
      "pythonloveace\n"
     ]
    }
   ],
   "source": [
    "favorite_language = \"python          \"\n",
    "print(favorite_language+last_name)\n",
    "favorite_language = favorite_language.rstrip() ## rstrip知识临时性的\n",
    "print(favorite_language+last_name)"
   ]
  },
  {
   "cell_type": "markdown",
   "id": "77ef7ec7-c246-47dc-b3c7-c0aab34c8752",
   "metadata": {},
   "source": [
    "# 数字类型\n",
    "## 基本\n",
    "+ str方法可以将其他类型转换为字符"
   ]
  },
  {
   "cell_type": "code",
   "execution_count": 4,
   "id": "c0a2d826-06b8-417e-9668-93642148fc01",
   "metadata": {},
   "outputs": [
    {
     "ename": "TypeError",
     "evalue": "can only concatenate str (not \"int\") to str",
     "output_type": "error",
     "traceback": [
      "\u001b[1;31m---------------------------------------------------------------------------\u001b[0m",
      "\u001b[1;31mTypeError\u001b[0m                                 Traceback (most recent call last)",
      "Cell \u001b[1;32mIn[4], line 2\u001b[0m\n\u001b[0;32m      1\u001b[0m age \u001b[38;5;241m=\u001b[39m \u001b[38;5;241m129\u001b[39m\n\u001b[1;32m----> 2\u001b[0m message \u001b[38;5;241m=\u001b[39m \u001b[38;5;124;43m\"\u001b[39;49m\u001b[38;5;124;43mHappy\u001b[39;49m\u001b[38;5;124;43m\"\u001b[39;49m\u001b[38;5;241;43m+\u001b[39;49m\u001b[43m \u001b[49m\u001b[43mage\u001b[49m\u001b[38;5;241m+\u001b[39m\u001b[38;5;124m\"\u001b[39m\u001b[38;5;124mrd Birthday\u001b[39m\u001b[38;5;124m\"\u001b[39m\n",
      "\u001b[1;31mTypeError\u001b[0m: can only concatenate str (not \"int\") to str"
     ]
    }
   ],
   "source": [
    "age = 129\n",
    "message = \"Happy\"+ age+\"rd Birthday\"\n"
   ]
  },
  {
   "cell_type": "code",
   "execution_count": 5,
   "id": "557c28fb-88a8-42ce-9f18-c66d972968c5",
   "metadata": {},
   "outputs": [
    {
     "data": {
      "text/plain": [
       "'Happy 129 rd Birthday'"
      ]
     },
     "execution_count": 5,
     "metadata": {},
     "output_type": "execute_result"
    }
   ],
   "source": [
    "## 应该改为\n",
    "'''\n",
    "否则python不知道age是“1”，“2”，“9”还是\"129\"\n",
    "'''\n",
    "message = \"Happy \"+ str(age)+\" rd Birthday\"\n",
    "message\n"
   ]
  },
  {
   "cell_type": "markdown",
   "id": "459daea5-45db-4a76-941c-e4e5b28b6ace",
   "metadata": {},
   "source": [
    "# 列表"
   ]
  },
  {
   "cell_type": "code",
   "execution_count": 6,
   "id": "66e2642e-cf0f-4770-934c-84e11e1276ea",
   "metadata": {},
   "outputs": [
    {
     "name": "stdout",
     "output_type": "stream",
     "text": [
      "['trek', 'cannondale', 'redles']\n",
      "trek\n",
      "['ducati', 'cannondale', 'redles']\n",
      "['ducati', 'cannondale', 'redles', 'ducati2']\n",
      "['ducati', 'cannondale', '--ins2', 'redles', 'ducati2']\n",
      "['ducati', '--ins2', 'redles', 'ducati2']\n",
      "['ducati', '--ins2', 'redles']\n",
      "ducati2\n",
      "redles\n"
     ]
    }
   ],
   "source": [
    "bicycles = ['trek','cannondale','redles']\n",
    "print(bicycles)\n",
    "print(bicycles[0])\n",
    "## 修改\n",
    "bicycles[0] = \"ducati\"\n",
    "print(bicycles)\n",
    "## 追加\n",
    "bicycles.append(\"ducati2\")\n",
    "print(bicycles)\n",
    "## 插入\n",
    "bicycles.insert(2,'--ins2')\n",
    "print(bicycles)\n",
    "## 删除\n",
    "del bicycles[1]\n",
    "print(bicycles)\n",
    "## 弹出\n",
    "pop1 = bicycles.pop()\n",
    "print(bicycles)\n",
    "print(pop1)\n",
    "# 弹出任意的元素\n",
    "pop2 = bicycles.pop(2)\n",
    "print(pop2)"
   ]
  },
  {
   "cell_type": "markdown",
   "id": "010e459a-16f0-46c4-a9ec-c17760515092",
   "metadata": {},
   "source": [
    "+ 根据值删除元素"
   ]
  },
  {
   "cell_type": "code",
   "execution_count": 7,
   "id": "73399000-5ae7-4e74-bd5f-8d951e17c024",
   "metadata": {},
   "outputs": [
    {
     "name": "stdout",
     "output_type": "stream",
     "text": [
      "['trek', 'cannondale', 'redles']\n",
      "['cannondale', 'redles']\n"
     ]
    }
   ],
   "source": [
    "bicycles = ['trek','cannondale','redles']\n",
    "print(bicycles)\n",
    "bicycles.remove('trek')\n",
    "print(bicycles)\n"
   ]
  },
  {
   "cell_type": "markdown",
   "id": "115ee975-801a-4d8a-ab04-1f64425b0caf",
   "metadata": {},
   "source": [
    "## 组织列表\n",
    "\n",
    "+ sort\n",
    "  > 用于给组织排列"
   ]
  },
  {
   "cell_type": "code",
   "execution_count": 10,
   "id": "68fc451d-b241-4b51-bda5-53e18fd71a16",
   "metadata": {},
   "outputs": [
    {
     "name": "stdout",
     "output_type": "stream",
     "text": [
      "['audi', 'bmw', 'subaru', 'toyota']\n"
     ]
    }
   ],
   "source": [
    "car = ['bmw','audi','toyota','subaru']\n",
    "car.sort()\n",
    "print(car)"
   ]
  },
  {
   "cell_type": "markdown",
   "id": "a6eff732-7f4a-4746-bd44-e2da61d465b2",
   "metadata": {},
   "source": [
    "+ sorted\n",
    "  > 临时排序"
   ]
  },
  {
   "cell_type": "code",
   "execution_count": 11,
   "id": "2410209a-ab00-4b5f-9def-ea187c2159db",
   "metadata": {},
   "outputs": [
    {
     "name": "stdout",
     "output_type": "stream",
     "text": [
      "['audi', 'bmw', 'subaru', 'toyota']\n",
      "['bmw', 'audi', 'toyota', 'subaru']\n"
     ]
    }
   ],
   "source": [
    "car = ['bmw','audi','toyota','subaru']\n",
    "print(sorted(car))\n",
    "print(car)"
   ]
  },
  {
   "cell_type": "markdown",
   "id": "bf60fb14-8bed-4d46-b336-69ad1c07ce21",
   "metadata": {},
   "source": [
    "+ reverse反转"
   ]
  },
  {
   "cell_type": "code",
   "execution_count": 12,
   "id": "dadd4b6f-4a44-4981-b1ca-76c2137bb846",
   "metadata": {},
   "outputs": [
    {
     "data": {
      "text/plain": [
       "['toyota', 'subaru', 'bmw', 'audi']"
      ]
     },
     "execution_count": 12,
     "metadata": {},
     "output_type": "execute_result"
    }
   ],
   "source": [
    "car.sort(reverse=True)\n",
    "car"
   ]
  },
  {
   "cell_type": "code",
   "execution_count": 13,
   "id": "c511b517-438c-497d-adc9-dcb6a4e99e08",
   "metadata": {},
   "outputs": [
    {
     "name": "stdout",
     "output_type": "stream",
     "text": [
      "['audi', 'bmw', 'subaru', 'toyota']\n"
     ]
    }
   ],
   "source": [
    "car.reverse()\n",
    "print(car)"
   ]
  },
  {
   "cell_type": "markdown",
   "id": "620264e9-c9a8-4d1e-a2db-1113bf580ea6",
   "metadata": {},
   "source": [
    "+ 确定列表长度"
   ]
  },
  {
   "cell_type": "code",
   "execution_count": 14,
   "id": "c27f950f-1a94-4193-bb1c-257b771f5e81",
   "metadata": {},
   "outputs": [
    {
     "data": {
      "text/plain": [
       "4"
      ]
     },
     "execution_count": 14,
     "metadata": {},
     "output_type": "execute_result"
    }
   ],
   "source": [
    "car = ['bmw','audi','toyota','subaru']\n",
    "len(car)"
   ]
  },
  {
   "cell_type": "markdown",
   "id": "d3e00c72-7969-45aa-a002-89ad248b0935",
   "metadata": {},
   "source": [
    "+ 使用列表时避免索引错误"
   ]
  },
  {
   "cell_type": "code",
   "execution_count": 15,
   "id": "4b84662a-7a37-4ef2-9b90-1378c805cc64",
   "metadata": {},
   "outputs": [
    {
     "ename": "IndexError",
     "evalue": "list index out of range",
     "output_type": "error",
     "traceback": [
      "\u001b[1;31m---------------------------------------------------------------------------\u001b[0m",
      "\u001b[1;31mIndexError\u001b[0m                                Traceback (most recent call last)",
      "Cell \u001b[1;32mIn[15], line 2\u001b[0m\n\u001b[0;32m      1\u001b[0m motorcycles  \u001b[38;5;241m=\u001b[39m [\u001b[38;5;124m'\u001b[39m\u001b[38;5;124mhonda\u001b[39m\u001b[38;5;124m'\u001b[39m,\u001b[38;5;124m'\u001b[39m\u001b[38;5;124myamaha\u001b[39m\u001b[38;5;124m'\u001b[39m,\u001b[38;5;124m'\u001b[39m\u001b[38;5;124msuzuki\u001b[39m\u001b[38;5;124m'\u001b[39m]\n\u001b[1;32m----> 2\u001b[0m \u001b[38;5;28mprint\u001b[39m(\u001b[43mmotorcycles\u001b[49m\u001b[43m[\u001b[49m\u001b[38;5;241;43m3\u001b[39;49m\u001b[43m]\u001b[49m)\n",
      "\u001b[1;31mIndexError\u001b[0m: list index out of range"
     ]
    }
   ],
   "source": [
    "motorcycles  = ['honda','yamaha','suzuki']\n",
    "print(motorcycles[3])"
   ]
  },
  {
   "cell_type": "code",
   "execution_count": null,
   "id": "644a1f53-2932-40e1-8de0-821be1caf237",
   "metadata": {},
   "outputs": [],
   "source": [
    "motorcycles  = ['honda','yamaha','suzuki']\n",
    "print(motorcycles[-1])"
   ]
  },
  {
   "cell_type": "markdown",
   "id": "c8e051e0-b299-48ae-80b4-b969770f6259",
   "metadata": {},
   "source": [
    "## 遍历整个列表"
   ]
  },
  {
   "cell_type": "code",
   "execution_count": 16,
   "id": "400b4d46-10d1-4ecd-b873-c8450ca8943a",
   "metadata": {},
   "outputs": [
    {
     "name": "stdout",
     "output_type": "stream",
     "text": [
      "alice\n",
      "david\n",
      "carolina\n"
     ]
    }
   ],
   "source": [
    "magicians = ['alice','david','carolina']\n",
    "for magician  in magicians:\n",
    "    print(magician)"
   ]
  },
  {
   "cell_type": "markdown",
   "id": "212101af-9218-4934-a2a9-fcdeeacbfef9",
   "metadata": {},
   "source": [
    "## range"
   ]
  },
  {
   "cell_type": "code",
   "execution_count": 17,
   "id": "bb02fb64-5b55-42b5-8c49-cccc43878553",
   "metadata": {},
   "outputs": [
    {
     "name": "stdout",
     "output_type": "stream",
     "text": [
      "1\n",
      "2\n",
      "3\n",
      "4\n"
     ]
    }
   ],
   "source": [
    "for value in range(1,5):\n",
    "    print(value)"
   ]
  },
  {
   "cell_type": "code",
   "execution_count": 18,
   "id": "bd5bf73a-2ae2-4b8c-b02e-c1e1b42a2cfd",
   "metadata": {},
   "outputs": [
    {
     "name": "stdout",
     "output_type": "stream",
     "text": [
      "[1, 2, 3, 4, 5]\n"
     ]
    }
   ],
   "source": [
    "numbers = list(range(1,6))\n",
    "print(numbers)"
   ]
  },
  {
   "cell_type": "code",
   "execution_count": 19,
   "id": "4f94d6be-c211-44b0-b2b1-3c31ed6d4eea",
   "metadata": {},
   "outputs": [
    {
     "name": "stdout",
     "output_type": "stream",
     "text": [
      "[1, 3, 5]\n"
     ]
    }
   ],
   "source": [
    "# 指定步长\n",
    "even_numbers =  list(range(1,6,2))\n",
    "print(even_numbers)"
   ]
  },
  {
   "cell_type": "markdown",
   "id": "8cea25c6-1262-4b2d-86c1-7f79b488a1d6",
   "metadata": {},
   "source": [
    "### 一些运算函数"
   ]
  },
  {
   "cell_type": "code",
   "execution_count": 20,
   "id": "debd4f5b-0e2d-41d0-ac22-1985d00eedf9",
   "metadata": {},
   "outputs": [
    {
     "data": {
      "text/plain": [
       "16"
      ]
     },
     "execution_count": 20,
     "metadata": {},
     "output_type": "execute_result"
    }
   ],
   "source": [
    "numbers =  4**2\n",
    "numbers"
   ]
  },
  {
   "cell_type": "code",
   "execution_count": 21,
   "id": "106d17df-cbb4-42f6-be5a-9721ea60fd8c",
   "metadata": {},
   "outputs": [
    {
     "data": {
      "text/plain": [
       "45"
      ]
     },
     "execution_count": 21,
     "metadata": {},
     "output_type": "execute_result"
    }
   ],
   "source": [
    "digits = [1,2,3,4,5,6,7,8,9]\n",
    "min(digits)\n",
    "max(digits)\n",
    "sum(digits)"
   ]
  },
  {
   "cell_type": "code",
   "execution_count": 14,
   "id": "acedffc7-f870-4e73-a917-9593eb0a2758",
   "metadata": {},
   "outputs": [
    {
     "name": "stdout",
     "output_type": "stream",
     "text": [
      "[1, 4, 9, 16, 25, 36, 49, 64, 81, 100]\n"
     ]
    }
   ],
   "source": [
    "# 解释函数\n",
    "squares = [value**2 for value in range(1,11)]\n",
    "print(squares)"
   ]
  },
  {
   "cell_type": "code",
   "execution_count": 22,
   "id": "15b58dfd-c387-489c-810e-38b78d26b300",
   "metadata": {},
   "outputs": [
    {
     "data": {
      "text/plain": [
       "124750"
      ]
     },
     "execution_count": 22,
     "metadata": {},
     "output_type": "execute_result"
    }
   ],
   "source": [
    "# 例：\n",
    "numb = list(range(1,500))\n",
    "sum(numb)"
   ]
  },
  {
   "cell_type": "markdown",
   "id": "fa1bcc28-3038-4c7b-a1a6-ff6e3e179752",
   "metadata": {},
   "source": [
    "## 使用列表的一部分\n",
    "### 切片"
   ]
  },
  {
   "cell_type": "code",
   "execution_count": 8,
   "id": "6ee420a3-2a8a-4d02-85d9-5c184f050235",
   "metadata": {},
   "outputs": [
    {
     "name": "stdout",
     "output_type": "stream",
     "text": [
      "['charles', 'martina', 'michael']\n"
     ]
    }
   ],
   "source": [
    "players = ['charles','martina','michael','florence','eli']\n",
    "print(players[0:3])"
   ]
  },
  {
   "cell_type": "code",
   "execution_count": 9,
   "id": "e670f214-435f-4f9f-b0e9-0eefb55d08f3",
   "metadata": {},
   "outputs": [
    {
     "name": "stdout",
     "output_type": "stream",
     "text": [
      "charles\n",
      "martina\n",
      "michael\n"
     ]
    }
   ],
   "source": [
    "for player in players[:3]:\n",
    "    print(player)"
   ]
  },
  {
   "cell_type": "code",
   "execution_count": 10,
   "id": "58069d60-17f1-49e4-858f-606bb95757b2",
   "metadata": {},
   "outputs": [
    {
     "name": "stdout",
     "output_type": "stream",
     "text": [
      "My friend's food:\n",
      "['pizza', 'falafel', 'carrot cake']\n",
      "my food :\n",
      "['pizza', 'falafel', 'carrot cake', 'cannoli']\n"
     ]
    }
   ],
   "source": [
    "# 复制列表\n",
    "my_foods = ['pizza','falafel','carrot cake']\n",
    "friend_foods = my_foods[:]\n",
    "my_foods.append('cannoli')\n",
    "\n",
    "print(\"My friend's food:\")\n",
    "print(friend_foods)\n",
    "print('my food :')\n",
    "print(my_foods)\n"
   ]
  },
  {
   "cell_type": "markdown",
   "id": "7edc1ae5-57f5-4b81-ba57-55916d4d9249",
   "metadata": {},
   "source": [
    "## 元组\n",
    "\n",
    "> 不可变的列表被称为元组"
   ]
  },
  {
   "cell_type": "code",
   "execution_count": 12,
   "id": "faeb0dc8-c302-4fb4-a366-9c5c1280df73",
   "metadata": {},
   "outputs": [
    {
     "name": "stdout",
     "output_type": "stream",
     "text": [
      "200\n",
      "50\n"
     ]
    },
    {
     "ename": "TypeError",
     "evalue": "'tuple' object does not support item assignment",
     "output_type": "error",
     "traceback": [
      "\u001b[1;31m---------------------------------------------------------------------------\u001b[0m",
      "\u001b[1;31mTypeError\u001b[0m                                 Traceback (most recent call last)",
      "Cell \u001b[1;32mIn[12], line 4\u001b[0m\n\u001b[0;32m      2\u001b[0m \u001b[38;5;28mprint\u001b[39m(dimensions[\u001b[38;5;241m0\u001b[39m])\n\u001b[0;32m      3\u001b[0m \u001b[38;5;28mprint\u001b[39m(dimensions[\u001b[38;5;241m1\u001b[39m])\n\u001b[1;32m----> 4\u001b[0m \u001b[43mdimensions\u001b[49m\u001b[43m[\u001b[49m\u001b[38;5;241;43m0\u001b[39;49m\u001b[43m]\u001b[49m \u001b[38;5;241m=\u001b[39m \u001b[38;5;241m42\u001b[39m\n",
      "\u001b[1;31mTypeError\u001b[0m: 'tuple' object does not support item assignment"
     ]
    }
   ],
   "source": [
    "dimensions = (200,50)\n",
    "print(dimensions[0])\n",
    "print(dimensions[1])\n",
    "dimensions[0] = 42"
   ]
  },
  {
   "cell_type": "markdown",
   "id": "560217de-8198-4f93-bcf0-19417d1161fa",
   "metadata": {},
   "source": [
    "## 设置代码格式"
   ]
  },
  {
   "cell_type": "markdown",
   "id": "c1a98988-46b6-42be-8401-b48baa0aecc0",
   "metadata": {},
   "source": [
    "# if语句"
   ]
  },
  {
   "cell_type": "code",
   "execution_count": 16,
   "id": "6d531ccb-d2fc-4431-bf2b-8112fe45cf27",
   "metadata": {},
   "outputs": [
    {
     "name": "stdout",
     "output_type": "stream",
     "text": [
      "Your admission cost is $5\n"
     ]
    }
   ],
   "source": [
    "age = 12\n",
    "if age<4:\n",
    "    print(\"Your admission cost is $0\")\n",
    "elif age<18:\n",
    "    print(\"Your admission cost is $5\")\n",
    "else:\n",
    "    print(\"your admission cost is $19.\")\n"
   ]
  },
  {
   "cell_type": "markdown",
   "id": "d468fc71-a2d8-4c61-aab4-0695c47e8f4f",
   "metadata": {},
   "source": [
    "# 字典"
   ]
  },
  {
   "cell_type": "code",
   "execution_count": 20,
   "id": "baef4efd-4d22-4e82-8218-adcd23348af4",
   "metadata": {},
   "outputs": [
    {
     "name": "stdout",
     "output_type": "stream",
     "text": [
      "green\n"
     ]
    },
    {
     "ename": "KeyError",
     "evalue": "'points'",
     "output_type": "error",
     "traceback": [
      "\u001b[1;31m---------------------------------------------------------------------------\u001b[0m",
      "\u001b[1;31mKeyError\u001b[0m                                  Traceback (most recent call last)",
      "Cell \u001b[1;32mIn[20], line 6\u001b[0m\n\u001b[0;32m      4\u001b[0m \u001b[38;5;28mprint\u001b[39m(alien_0[\u001b[38;5;124m\"\u001b[39m\u001b[38;5;124mcolor\u001b[39m\u001b[38;5;124m\"\u001b[39m])\n\u001b[0;32m      5\u001b[0m \u001b[38;5;28;01mdel\u001b[39;00m alien_0[\u001b[38;5;124m'\u001b[39m\u001b[38;5;124mpoints\u001b[39m\u001b[38;5;124m'\u001b[39m]\n\u001b[1;32m----> 6\u001b[0m \u001b[38;5;28mprint\u001b[39m(\u001b[43malien_0\u001b[49m\u001b[43m[\u001b[49m\u001b[38;5;124;43m'\u001b[39;49m\u001b[38;5;124;43mpoints\u001b[39;49m\u001b[38;5;124;43m'\u001b[39;49m\u001b[43m]\u001b[49m)\n",
      "\u001b[1;31mKeyError\u001b[0m: 'points'"
     ]
    }
   ],
   "source": [
    "alien_0 = {'points':5}\n",
    "\n",
    "alien_0[\"color\"] = 'green'\n",
    "print(alien_0[\"color\"])\n",
    "del alien_0['points']\n",
    "print(alien_0['points'])"
   ]
  },
  {
   "cell_type": "code",
   "execution_count": 24,
   "id": "65b7a9cd-9532-4c01-b843-cdefc2a3d197",
   "metadata": {},
   "outputs": [
    {
     "name": "stdout",
     "output_type": "stream",
     "text": [
      "\n",
      "Key: username\n",
      "Value: efermi\n",
      "\n",
      "Key: first\n",
      "Value: enrico\n",
      "\n",
      "Key: last\n",
      "Value: fermi\n"
     ]
    }
   ],
   "source": [
    "# 遍历所有的键——值对\n",
    "user_0 = {\n",
    "    'username': 'efermi',\n",
    "    'first':'enrico',\n",
    "    'last':'fermi',\n",
    "}\n",
    "for key,value in user_0.items():\n",
    "    print('\\nKey: '+key)\n",
    "    print('Value: '+value)  "
   ]
  },
  {
   "cell_type": "code",
   "execution_count": 26,
   "id": "c11f5a78-f3a5-4540-aace-7f749918ebb6",
   "metadata": {},
   "outputs": [
    {
     "name": "stdout",
     "output_type": "stream",
     "text": [
      "\n",
      "Key: username\n",
      "\n",
      "Key: first\n",
      "\n",
      "Key: last\n"
     ]
    }
   ],
   "source": [
    "# 遍历所有的键\n",
    "user_0 = {\n",
    "    'username': 'efermi',\n",
    "    'first':'enrico',\n",
    "    'last':'fermi',\n",
    "}\n",
    "for name in user_0.keys():\n",
    "    print('\\nKey: '+name)  "
   ]
  },
  {
   "cell_type": "code",
   "execution_count": 28,
   "id": "9003010e-f4ea-4f91-af7d-24fc4f05b764",
   "metadata": {},
   "outputs": [
    {
     "name": "stdout",
     "output_type": "stream",
     "text": [
      "\n",
      "value: efermi\n",
      "\n",
      "value: enrico\n",
      "\n",
      "value: fermi\n"
     ]
    }
   ],
   "source": [
    "# 遍历所有的值\n",
    "user_0 = {\n",
    "    'username': 'efermi',\n",
    "    'first':'enrico',\n",
    "    'last':'fermi',\n",
    "}\n",
    "for name in user_0.values():\n",
    "    print('\\nvalue: '+name)  "
   ]
  },
  {
   "cell_type": "markdown",
   "id": "5374f251-feba-40b5-b52e-0e540d8c2902",
   "metadata": {},
   "source": [
    "# 用户输入和while"
   ]
  },
  {
   "cell_type": "code",
   "execution_count": 29,
   "id": "b95832fa-82ff-4210-977a-72a161df166c",
   "metadata": {},
   "outputs": [
    {
     "name": "stdout",
     "output_type": "stream",
     "text": [
      "1\n",
      "2\n",
      "3\n",
      "4\n",
      "5\n"
     ]
    }
   ],
   "source": [
    "current_number = 1\n",
    "while current_number <= 5:\n",
    "    print(current_number)\n",
    "    current_number+=1"
   ]
  },
  {
   "cell_type": "markdown",
   "id": "24cc76ea-bc45-43e0-9272-a0ea31f099b9",
   "metadata": {},
   "source": [
    "# 函数"
   ]
  },
  {
   "cell_type": "code",
   "execution_count": 30,
   "id": "34cf5308-0da3-48f9-9136-cf690ebf368d",
   "metadata": {},
   "outputs": [
    {
     "name": "stdout",
     "output_type": "stream",
     "text": [
      "hello!\n"
     ]
    }
   ],
   "source": [
    "def greet_user():\n",
    "    print(\"hello!\")\n",
    "greet_user()"
   ]
  },
  {
   "cell_type": "code",
   "execution_count": 32,
   "id": "2c234c90-f0cb-4912-9b6d-cc3f6ad3ba2d",
   "metadata": {},
   "outputs": [
    {
     "name": "stdout",
     "output_type": "stream",
     "text": [
      "Hello, Nick!\n"
     ]
    }
   ],
   "source": [
    "def greet_user(username):\n",
    "    print(\"Hello, \"+username.title()+\"!\")\n",
    "\n",
    "greet_user(\"nick\")"
   ]
  },
  {
   "cell_type": "code",
   "execution_count": 4,
   "id": "696c0ac3-9e04-4fa0-84e8-d65f1eca3375",
   "metadata": {},
   "outputs": [
    {
     "name": "stdout",
     "output_type": "stream",
     "text": [
      "\n",
      "I have a dog\n",
      "its name is :Harry\n"
     ]
    }
   ],
   "source": [
    "# 关键字实参\n",
    "def describe_pet(animal_type,pet_name=\"cat\"):\n",
    "    print(\"\\nI have a \"+animal_type)\n",
    "    print(\"its name is :\"+ pet_name.title())\n",
    "\n",
    "describe_pet(animal_type=\"dog\",pet_name=\"harry\")\n"
   ]
  },
  {
   "cell_type": "code",
   "execution_count": 5,
   "id": "d57c6ead-6380-4023-8921-6246db9537e7",
   "metadata": {},
   "outputs": [
    {
     "data": {
      "text/plain": [
       "'Harry Potter'"
      ]
     },
     "execution_count": 5,
     "metadata": {},
     "output_type": "execute_result"
    }
   ],
   "source": [
    "# 返回值\n",
    "def get_full_name(frist_name,next_name):\n",
    "    full_name = frist_name.title()+\" \"+next_name.title()\n",
    "    return full_name\n",
    "\n",
    "get_full_name(\"harry\",\"potter\")"
   ]
  },
  {
   "cell_type": "code",
   "execution_count": 7,
   "id": "bfbdc5eb-31a0-4a5e-b29f-d79e6b3336ac",
   "metadata": {},
   "outputs": [
    {
     "name": "stdout",
     "output_type": "stream",
     "text": [
      "('pepperoni',)\n",
      "('mushrooms', 'green peppers', 'extra cheese')\n"
     ]
    }
   ],
   "source": [
    "# 传递任意数量的实参\n",
    "def make_pizza(*toppings):\n",
    "    print(toppings)\n",
    "# 空元组\n",
    "make_pizza(\"pepperoni\")\n",
    "make_pizza(\"mushrooms\",\"green peppers\",\"extra cheese\")"
   ]
  },
  {
   "cell_type": "code",
   "execution_count": 9,
   "id": "b602948c-894a-43de-83df-761d7531da01",
   "metadata": {},
   "outputs": [
    {
     "name": "stdout",
     "output_type": "stream",
     "text": [
      "{'first_name': 'alert', 'last_name': 'einsterin', 'location': 'princeton', 'field': 'physics'}\n"
     ]
    }
   ],
   "source": [
    "# 传递任意数量的关键字形参\n",
    "def build_profile(first,last,**user_info):\n",
    "    \"\"\" 创建一个字典，包含我们知道的有关吧用户的一切\"\"\"\n",
    "    profile = {}\n",
    "    profile[\"first_name\"] = first\n",
    "    profile['last_name'] = last\n",
    "    for key,value in user_info.items():\n",
    "        profile[key] = value\n",
    "    return profile\n",
    "\n",
    "user_profile = build_profile(\"alert\",\"einsterin\",\n",
    "                             location = 'princeton',\n",
    "                             field = 'physics')\n",
    "print(user_profile)"
   ]
  },
  {
   "cell_type": "markdown",
   "id": "bf2a6852-66b2-410f-b88b-2845a6322eae",
   "metadata": {},
   "source": [
    "+ 将函数存储在模块中\n",
    "+ 创建模块"
   ]
  },
  {
   "cell_type": "code",
   "execution_count": null,
   "id": "4d31f4b6-170e-4760-b97a-ea61ac6d87b6",
   "metadata": {},
   "outputs": [],
   "source": [
    "# pizza.py\n",
    "def make_pizza(size,*toppings):\n",
    "    print(\"\\nMakeing a \"+str(size)+\n",
    "          \"-inch pizza with the following toppings:\")\n",
    "    for topping in toppings:\n",
    "        print(\"- \"+topping)"
   ]
  },
  {
   "cell_type": "code",
   "execution_count": null,
   "id": "9c5fb4a4-7641-451e-a260-21a57f0680e8",
   "metadata": {},
   "outputs": [],
   "source": [
    "import pizza as pi\n",
    "#from moudule_name import function_name as fn\n",
    "pizza.make_pizza(16,'peperoni\")"
   ]
  },
  {
   "cell_type": "markdown",
   "id": "71376517-1bbc-46cd-85b8-7e3854733d0d",
   "metadata": {},
   "source": [
    "+ 导入模块中的所有函数"
   ]
  },
  {
   "cell_type": "code",
   "execution_count": null,
   "id": "10b00044-c374-4542-ac1e-36c2d90e31f4",
   "metadata": {},
   "outputs": [],
   "source": [
    "from pizza import *\n",
    "#from moudule_name import function_name as fn\n",
    "make_pizza(16,'peperoni\")"
   ]
  },
  {
   "cell_type": "markdown",
   "id": "8894945a-d5d7-4f17-9237-1f9fa8e34473",
   "metadata": {},
   "source": [
    "# 类"
   ]
  },
  {
   "cell_type": "code",
   "execution_count": 6,
   "id": "10e13b67-0c5d-4336-9966-53fd810885c2",
   "metadata": {},
   "outputs": [
    {
     "name": "stdout",
     "output_type": "stream",
     "text": [
      "Willie\n",
      "6\n",
      "Willie is now sitting.\n",
      "Willie rolled over!!\n",
      "Wei is now sitting.\n"
     ]
    }
   ],
   "source": [
    "class Dog():\n",
    "\n",
    "    def __init__(self, name ,age):\n",
    "        self.name = name\n",
    "        self.age = age\n",
    "        \n",
    "    def sit(self):\n",
    "        print(self.name.title()+\" is now sitting.\")\n",
    "\n",
    "    def roll_over(self):\n",
    "        print(self.name.title()+\" rolled over!!\")\n",
    "\n",
    "    def setName(self,name):\n",
    "        self.name = name\n",
    "\n",
    "my_dog = Dog(\"willie\", 6)\n",
    "\n",
    "print(my_dog.name.title())\n",
    "print(str(my_dog.age))\n",
    "my_dog.sit()\n",
    "my_dog.roll_over()\n",
    "my_dog.setName(\"Wei\")\n",
    "my_dog.sit()"
   ]
  },
  {
   "cell_type": "markdown",
   "id": "4c1c1689-b65b-4076-9e2e-95f133e8ea0e",
   "metadata": {},
   "source": [
    "## 继承"
   ]
  },
  {
   "cell_type": "code",
   "execution_count": 5,
   "id": "40e25eb6-d54d-4246-9b9b-adf21c238dd3",
   "metadata": {},
   "outputs": [],
   "source": [
    "class Car():\n",
    "    def __init__(self,make,model,year):\n",
    "        self.make = make\n",
    "        self.model = model\n",
    "        self.year = year\n",
    "        self.odometer_reading = 0\n",
    "\n",
    "    def get_descript(self):\n",
    "        return self.year\n",
    "\n",
    "\n",
    "class ElectricaCar(Car):\n",
    "\n",
    "    def __init__(self,make,model,year):\n",
    "        super()._init(make,model,year)"
   ]
  },
  {
   "cell_type": "code",
   "execution_count": 7,
   "id": "71a1cbf5-eae1-4b26-9516-ae67e5f1e3c0",
   "metadata": {},
   "outputs": [
    {
     "name": "stdout",
     "output_type": "stream",
     "text": [
      "2016\n"
     ]
    }
   ],
   "source": [
    "my_tes = ElectricaCar(\"tesla\",\"model s\",2016)\n",
    "print(my_tes.get_descript())"
   ]
  },
  {
   "cell_type": "code",
   "execution_count": null,
   "id": "2aecc37b-c662-4678-a485-437ef101619c",
   "metadata": {},
   "outputs": [],
   "source": []
  }
 ],
 "metadata": {
  "kernelspec": {
   "display_name": "Python 3 (ipykernel)",
   "language": "python",
   "name": "python3"
  },
  "language_info": {
   "codemirror_mode": {
    "name": "ipython",
    "version": 3
   },
   "file_extension": ".py",
   "mimetype": "text/x-python",
   "name": "python",
   "nbconvert_exporter": "python",
   "pygments_lexer": "ipython3",
   "version": "3.12.1"
  }
 },
 "nbformat": 4,
 "nbformat_minor": 5
}
