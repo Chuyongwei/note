{
 "cells": [
  {
   "cell_type": "code",
   "execution_count": 2,
   "id": "a67d4263-7b4a-4ce1-8e89-d208197c0396",
   "metadata": {},
   "outputs": [
    {
     "name": "stdout",
     "output_type": "stream",
     "text": [
      "sunck is a good man\n"
     ]
    }
   ],
   "source": [
    "print(\"sunck is a good man\")"
   ]
  },
  {
   "cell_type": "markdown",
   "id": "b76c6924-a995-42c2-a5de-dd49ddbee7ac",
   "metadata": {},
   "source": [
    "> 上面的代码使用ctrl+enter运行\n",
    "> \n",
    "> 用shift+enter换行"
   ]
  },
  {
   "cell_type": "code",
   "execution_count": 1,
   "id": "c9dc608d-b1fc-4a79-b9ee-31e484ba60af",
   "metadata": {},
   "outputs": [],
   "source": [
    "a= [42,43]"
   ]
  },
  {
   "cell_type": "markdown",
   "id": "0846c353-a1c8-4e2b-bc00-869a537d7ee7",
   "metadata": {},
   "source": [
    "== 注意！ ==\n",
    "\n",
    "> anaconda 用于包的维护\n",
    ">\n",
    "> pip适用于python\n",
    ">\n",
    "> conda适用于各种语言 "
   ]
  },
  {
   "cell_type": "code",
   "execution_count": null,
   "id": "a215d43d-d983-4199-a056-d6e61ff3365c",
   "metadata": {},
   "outputs": [],
   "source": []
  }
 ],
 "metadata": {
  "kernelspec": {
   "display_name": "Python 3 (ipykernel)",
   "language": "python",
   "name": "python3"
  },
  "language_info": {
   "codemirror_mode": {
    "name": "ipython",
    "version": 3
   },
   "file_extension": ".py",
   "mimetype": "text/x-python",
   "name": "python",
   "nbconvert_exporter": "python",
   "pygments_lexer": "ipython3",
   "version": "3.12.1"
  }
 },
 "nbformat": 4,
 "nbformat_minor": 5
}
