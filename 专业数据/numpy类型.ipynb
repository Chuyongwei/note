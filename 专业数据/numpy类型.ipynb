{
 "cells": [
  {
   "cell_type": "code",
   "execution_count": 5,
   "id": "c3bcab0c-13a7-4bd3-b69e-3f25c9024af4",
   "metadata": {},
   "outputs": [
    {
     "name": "stdout",
     "output_type": "stream",
     "text": [
      "int32\n",
      "<class 'numpy.dtypes.Int32DType'>\n"
     ]
    }
   ],
   "source": [
    "import numpy as np\n",
    "dt = np.dtype(np.int32)\n",
    "print(dt)\n",
    "print(type(dt))"
   ]
  },
  {
   "cell_type": "markdown",
   "id": "b1b066aa-0d39-4390-a99e-d5c9715d47b3",
   "metadata": {},
   "source": [
    "# Ndarray对象\n",
    "\n",
    "+ random.randn()\n",
    "\n",
    "  返回一个或一组样本具有标准正态分布"
   ]
  },
  {
   "cell_type": "code",
   "execution_count": 2,
   "id": "8f34fec7-3b2f-42e3-bcee-69c36207940d",
   "metadata": {},
   "outputs": [
    {
     "name": "stdout",
     "output_type": "stream",
     "text": [
      "-0.4685008527245723\n"
     ]
    }
   ],
   "source": [
    "import numpy as np\n",
    "arr = np.random.randn()\n",
    "print(arr)"
   ]
  },
  {
   "cell_type": "code",
   "execution_count": 3,
   "id": "242a25ef-3c38-4ac3-8840-e19e0446dc3b",
   "metadata": {},
   "outputs": [
    {
     "data": {
      "text/plain": [
       "array([0.96010582, 0.05245608, 0.4960729 ])"
      ]
     },
     "execution_count": 3,
     "metadata": {},
     "output_type": "execute_result"
    }
   ],
   "source": [
    "arr = np.random.random(3)\n",
    "arr"
   ]
  },
  {
   "cell_type": "code",
   "execution_count": 4,
   "id": "2f19b3cb-6077-44ce-b872-5b81e2a7c0ed",
   "metadata": {},
   "outputs": [
    {
     "name": "stdout",
     "output_type": "stream",
     "text": [
      "[[ 0.39887463  0.96037728 -1.3752713   0.15263841  1.31720042]\n",
      " [-0.94726242  1.27486387  0.36501577 -0.08499861  1.14395459]]\n"
     ]
    }
   ],
   "source": [
    "arr = np.random.randn(2,5)\n",
    "print(arr)"
   ]
  },
  {
   "cell_type": "code",
   "execution_count": 6,
   "id": "42a6510a-b010-4f0e-8c36-9ab29b50fe77",
   "metadata": {},
   "outputs": [
    {
     "data": {
      "text/plain": [
       "array([ 0.51256656, -2.44884444,  2.5960496 , -2.32170261,  1.73971355])"
      ]
     },
     "execution_count": 6,
     "metadata": {},
     "output_type": "execute_result"
    }
   ],
   "source": [
    "arr = np.random.normal(loc=1,scale=2,size=5)\n",
    "arr"
   ]
  },
  {
   "cell_type": "markdown",
   "id": "93ffac2f-6b64-4362-8ffc-a6fe728da0c6",
   "metadata": {},
   "source": [
    "+ np.random.randint(1,100,10)"
   ]
  },
  {
   "cell_type": "code",
   "execution_count": 23,
   "id": "ac1b41fb-34b0-4abf-ae0b-22f0a8be926c",
   "metadata": {},
   "outputs": [
    {
     "data": {
      "text/plain": [
       "array([72, 16, 41, 25, 91, 40, 45, 67, 92, 31])"
      ]
     },
     "execution_count": 23,
     "metadata": {},
     "output_type": "execute_result"
    }
   ],
   "source": [
    "array1 = np.random.randint(1, 100, 10)\n",
    "array1"
   ]
  },
  {
   "cell_type": "markdown",
   "id": "c713a85e-80bb-48c9-8e36-defe9e1e0902",
   "metadata": {},
   "source": [
    "+ 和，均值，中位数，\n",
    "\n",
    "  > **说明**：上面代码中的`mean`、`median`和`quantile`分别是 NumPy 中计算算术平均值、中位数和分位数的函数，其中`quantitle`函数的第二个参数设置为0.5表示计算50%分位数，也就是中位数。"
   ]
  },
  {
   "cell_type": "code",
   "execution_count": 24,
   "id": "d95b67fe-be0a-495a-b723-757cda8423eb",
   "metadata": {},
   "outputs": [
    {
     "name": "stdout",
     "output_type": "stream",
     "text": [
      "520\n",
      "520\n",
      "52.0\n",
      "52.0\n",
      "43.0\n",
      "43.0\n"
     ]
    }
   ],
   "source": [
    "print(array1.sum())\n",
    "print(np.sum(array1))\n",
    "print(array1.mean())\n",
    "print(np.mean(array1))\n",
    "print(np.median(array1))\n",
    "print(np.quantile(array1, 0.5))"
   ]
  },
  {
   "cell_type": "markdown",
   "id": "2a231178-41ca-4f84-b46c-42b483977b0e",
   "metadata": {},
   "source": [
    "# ndarray 数组\n",
    "## 创建数组"
   ]
  },
  {
   "cell_type": "code",
   "execution_count": 2,
   "id": "dd2daf39-4bbe-4c2f-b8db-ba647207a01d",
   "metadata": {},
   "outputs": [
    {
     "name": "stdout",
     "output_type": "stream",
     "text": [
      "[1 2 3 4 5]\n",
      "[ 0  2  4  6  8 10 12 14 16 18]\n",
      "[ 0  1  2  3  4  5  6  7  8  9 10 11 12 13 14 15 16 17 18 19 20 21 22 23]\n",
      "1\n",
      "[[[ 0  1  2  3]\n",
      "  [ 4  5  6  7]\n",
      "  [ 8  9 10 11]]\n",
      "\n",
      " [[12 13 14 15]\n",
      "  [16 17 18 19]\n",
      "  [20 21 22 23]]]\n",
      "3\n"
     ]
    }
   ],
   "source": [
    "import numpy as np\n",
    "\n",
    "# 通过数组创建\n",
    "array1 = np.array([1, 2, 3, 4, 5])\n",
    "print(array1)\n",
    "\n",
    "# 通过划定范围\n",
    "array3 = np.arange(0, 20, 2)\n",
    "print(array3)\n",
    "\n",
    "arr = np.arange(24)\n",
    "print(arr)\n",
    "# 维度\n",
    "print(arr.ndim)\n",
    "\n",
    "arr2 = arr.reshape(2,3,4)\n",
    "print(arr2)\n",
    "print(arr2.ndim)"
   ]
  },
  {
   "cell_type": "code",
   "execution_count": 3,
   "id": "662969ab-fc53-46c9-9d87-6f014265bb7f",
   "metadata": {},
   "outputs": [
    {
     "name": "stdout",
     "output_type": "stream",
     "text": [
      "[-1.  -0.8 -0.6 -0.4 -0.2  0.   0.2  0.4  0.6  0.8  1. ]\n"
     ]
    }
   ],
   "source": [
    "# 方法三：使用`linspace`函数，用指定范围和元素个数创建数组对象，生成等差数列\n",
    "array4 = np.linspace(-1, 1, 11)\n",
    "print(array4)"
   ]
  },
  {
   "cell_type": "code",
   "execution_count": 6,
   "id": "9b7850e8-3f1a-46a1-99bd-72f18af3da7a",
   "metadata": {},
   "outputs": [
    {
     "data": {
      "text/plain": [
       "array([   2.,    4.,    8.,   16.,   32.,   64.,  128.,  256.,  512.,\n",
       "       1024.])"
      ]
     },
     "execution_count": 6,
     "metadata": {},
     "output_type": "execute_result"
    }
   ],
   "source": [
    "# 使用`logspace`函数，生成等比数列\n",
    "array5 = np.logspace(1, 10, num=10, base=2)\n",
    "array5"
   ]
  },
  {
   "cell_type": "markdown",
   "id": "ab15afbc-b731-4ab1-be48-2d9f92e376c7",
   "metadata": {},
   "source": [
    "> 除此之外还有其他方法"
   ]
  },
  {
   "cell_type": "markdown",
   "id": "442304c9-424e-4583-96e4-55709b70c785",
   "metadata": {},
   "source": [
    "## 数组对象的属性\n",
    "\n",
    "+ `size` 获取数组元素个数。\n",
    "+ `ndim`属性：获取数组的维度。\n",
    "+ `shape`属性：获取数组的形状。\n",
    "+ `dtype`属性：获取数组元素的数据类型。\n",
    "+ `itemsize`属性：获取数组单个元素占用内存空间的字节数。\n",
    "+ `nbytes`属性：获取数组所有元素占用内存空间的字节数。"
   ]
  },
  {
   "cell_type": "code",
   "execution_count": 3,
   "id": "fa77ffe7-8944-4f08-afa9-990b484a51e1",
   "metadata": {},
   "outputs": [
    {
     "name": "stdout",
     "output_type": "stream",
     "text": [
      "50\n",
      "12\n"
     ]
    }
   ],
   "source": [
    "import numpy as np\n",
    "\n",
    "array17 = np.arange(1, 100, 2)\n",
    "array18 = np.random.rand(3, 4)\n",
    "print(array17.size)\n",
    "print(array18.size)"
   ]
  },
  {
   "cell_type": "markdown",
   "id": "780d3fe5-1bc0-4dcf-a587-54b0f8db5567",
   "metadata": {},
   "source": [
    "## 索引计算\n",
    "\n",
    "### 普通索引"
   ]
  },
  {
   "cell_type": "code",
   "execution_count": 7,
   "id": "a2399bd1-eca5-4ef9-a2cf-1e031d78b376",
   "metadata": {},
   "outputs": [
    {
     "name": "stdout",
     "output_type": "stream",
     "text": [
      "[1 2 3 4 5 6 7 8 9]\n",
      "1 9\n",
      "1 9\n"
     ]
    }
   ],
   "source": [
    "array19 = np.arange(1, 10)\n",
    "print(array19)\n",
    "print(array19[0], array19[array19.size - 1])\n",
    "print(array19[-array19.size], array19[-1])"
   ]
  },
  {
   "cell_type": "code",
   "execution_count": 10,
   "id": "2412137c-90b8-4834-9e9a-742094aea6d9",
   "metadata": {},
   "outputs": [
    {
     "data": {
      "text/plain": [
       "array([7, 8, 9])"
      ]
     },
     "execution_count": 10,
     "metadata": {},
     "output_type": "execute_result"
    }
   ],
   "source": [
    "array20 = np.array([[1, 2, 3], [4, 5, 6], [7, 8, 9]])\n",
    "array20[2]"
   ]
  },
  {
   "cell_type": "markdown",
   "id": "784712ab-f843-4062-94c0-becf7a31d868",
   "metadata": {},
   "source": [
    "### 切片索引\n",
    "\n",
    "切片索引是形如`[开始索引:结束索引:跨度]`的语法，通过指定**开始索引**（默认值无穷小）、**结束索引**（默认值无穷大）和**跨度**（默认值1），从数组中取出指定部分的元素并构成新的数组。因为开始索引、结束索引和步长都有默认值，所以它们都可以省略，如果不指定步长，第二个冒号也可以省略。一维数组的切片运算跟 Python 中的`list`类型的切片非常类似，此处不再赘述，二维数组的切片可以参考下面的代码，相信非常容易理解。"
   ]
  },
  {
   "cell_type": "code",
   "execution_count": 13,
   "id": "3640c509-8489-4f4a-b0c4-8caf23ac33de",
   "metadata": {},
   "outputs": [
    {
     "data": {
      "text/plain": [
       "array([[9, 7],\n",
       "       [3, 1]])"
      ]
     },
     "execution_count": 13,
     "metadata": {},
     "output_type": "execute_result"
    }
   ],
   "source": [
    "array20[:2, 1:]\n",
    "array20[::-2, ::-2]"
   ]
  },
  {
   "cell_type": "markdown",
   "id": "30965243-e2cf-4e08-94a0-ff919dae02cc",
   "metadata": {},
   "source": [
    "#### 花式索引\n",
    "\n",
    "花式索引是用保存整数的数组充当一个数组的索引，这里所说的数组可以是 NumPy 的`ndarray`，也可以是 Python 中`list`、`tuple`等可迭代类型，可以使用正向或负向索引。"
   ]
  },
  {
   "cell_type": "code",
   "execution_count": 14,
   "id": "84b2cd43-3eb2-4457-9f6e-1496be7538ad",
   "metadata": {},
   "outputs": [
    {
     "name": "stdout",
     "output_type": "stream",
     "text": [
      "[1 2 2 9 5 9]\n"
     ]
    }
   ],
   "source": [
    "arr = array19[[0, 1, 1, -1, 4, -1]]\n",
    "print(arr)"
   ]
  },
  {
   "cell_type": "code",
   "execution_count": 20,
   "id": "8657ddd6-f96f-42f7-b2bd-4708edbf046c",
   "metadata": {},
   "outputs": [
    {
     "name": "stdout",
     "output_type": "stream",
     "text": [
      "[2 9]\n"
     ]
    }
   ],
   "source": [
    "arr = array20[[0, 2], [1, 2]]\n",
    "print(arr)"
   ]
  },
  {
   "cell_type": "markdown",
   "id": "01478e69-0756-4559-9a52-cbc62dfd72d9",
   "metadata": {},
   "source": [
    "## 布尔索引"
   ]
  },
  {
   "cell_type": "code",
   "execution_count": 21,
   "id": "d0e3c051-c713-4086-85f9-f82c5320d575",
   "metadata": {},
   "outputs": [
    {
     "data": {
      "text/plain": [
       "array([1, 2, 5, 8, 9])"
      ]
     },
     "execution_count": 21,
     "metadata": {},
     "output_type": "execute_result"
    }
   ],
   "source": [
    "array19[[True, True, False, False, True, False, False, True, True]]"
   ]
  },
  {
   "cell_type": "code",
   "execution_count": null,
   "id": "ebad2dd8-8853-4bfd-b8d5-45f01658aa86",
   "metadata": {},
   "outputs": [],
   "source": []
  }
 ],
 "metadata": {
  "kernelspec": {
   "display_name": "Python 3 (ipykernel)",
   "language": "python",
   "name": "python3"
  },
  "language_info": {
   "codemirror_mode": {
    "name": "ipython",
    "version": 3
   },
   "file_extension": ".py",
   "mimetype": "text/x-python",
   "name": "python",
   "nbconvert_exporter": "python",
   "pygments_lexer": "ipython3",
   "version": "3.12.1"
  }
 },
 "nbformat": 4,
 "nbformat_minor": 5
}
