{
 "cells": [
  {
   "cell_type": "code",
   "execution_count": 4,
   "id": "d948c8b2-2301-41fe-9b41-02313f08ce93",
   "metadata": {},
   "outputs": [
    {
     "name": "stdout",
     "output_type": "stream",
     "text": [
      "[11 12 13 14 15 16 17 18 19]\n",
      "[10 20 30 40 50 60 70 80 90]\n"
     ]
    }
   ],
   "source": [
    "import numpy as np\n",
    "array1 = np.arange(1, 10)\n",
    "print(array1 + 10)\n",
    "print(array1 * 10)"
   ]
  },
  {
   "cell_type": "code",
   "execution_count": 5,
   "id": "8a4ee55e-a4f0-4e22-b2e0-7371301ebbc0",
   "metadata": {},
   "outputs": [
    {
     "name": "stdout",
     "output_type": "stream",
     "text": [
      "[False False False False False  True  True  True  True]\n",
      "[False  True False  True False  True False  True False]\n"
     ]
    }
   ],
   "source": [
    "print(array1 > 5)\n",
    "print(array1 % 2 == 0)"
   ]
  },
  {
   "cell_type": "code",
   "execution_count": 6,
   "id": "094ea46d-85ee-4486-8ca3-b4f551706068",
   "metadata": {},
   "outputs": [
    {
     "name": "stdout",
     "output_type": "stream",
     "text": [
      "[ 2  3  4  6  7  8 10 11 12]\n",
      "[ 1  2  3  8 10 12 21 24 27]\n",
      "[  1   2   3  16  25  36 343 512 729]\n"
     ]
    }
   ],
   "source": [
    "array2 = np.array([1, 1, 1, 2, 2, 2, 3, 3, 3])\n",
    "print(array1 + array2)\n",
    "print(array1 * array2)\n",
    "print(array1 ** array2)"
   ]
  },
  {
   "cell_type": "markdown",
   "id": "6f43707b-4e33-423e-be6c-fdb1218fe69d",
   "metadata": {},
   "source": [
    "# 兼容"
   ]
  },
  {
   "cell_type": "code",
   "execution_count": 7,
   "id": "e92c7555-7bbb-44c5-b666-c5a24ba1e3ea",
   "metadata": {},
   "outputs": [
    {
     "data": {
      "text/plain": [
       "array([[1, 2, 3],\n",
       "       [2, 3, 4],\n",
       "       [3, 4, 5],\n",
       "       [4, 5, 6]])"
      ]
     },
     "execution_count": 7,
     "metadata": {},
     "output_type": "execute_result"
    }
   ],
   "source": [
    "array5 = np.array([[0, 0, 0], [1, 1, 1], [2, 2, 2], [3, 3, 3]])\n",
    "array6 = np.array([1, 2, 3])\n",
    "array5 + array6"
   ]
  }
 ],
 "metadata": {
  "kernelspec": {
   "display_name": "Python 3 (ipykernel)",
   "language": "python",
   "name": "python3"
  },
  "language_info": {
   "codemirror_mode": {
    "name": "ipython",
    "version": 3
   },
   "file_extension": ".py",
   "mimetype": "text/x-python",
   "name": "python",
   "nbconvert_exporter": "python",
   "pygments_lexer": "ipython3",
   "version": "3.12.1"
  }
 },
 "nbformat": 4,
 "nbformat_minor": 5
}
