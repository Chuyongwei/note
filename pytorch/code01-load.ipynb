{
 "cells": [
  {
   "cell_type": "code",
   "execution_count": 1,
   "id": "7a57cc99-3ece-4211-ace0-bdabfc51d5b8",
   "metadata": {},
   "outputs": [
    {
     "name": "stderr",
     "output_type": "stream",
     "text": [
      "d:\\Document\\Computer\\doc\\python\\mytestenv24\\Lib\\site-packages\\torchvision\\models\\_utils.py:208: UserWarning: The parameter 'pretrained' is deprecated since 0.13 and may be removed in the future, please use 'weights' instead.\n",
      "  warnings.warn(\n",
      "d:\\Document\\Computer\\doc\\python\\mytestenv24\\Lib\\site-packages\\torchvision\\models\\_utils.py:223: UserWarning: Arguments other than a weight enum or `None` for 'weights' are deprecated since 0.13 and may be removed in the future. The current behavior is equivalent to passing `weights=ResNet18_Weights.IMAGENET1K_V1`. You can also use `weights=ResNet18_Weights.DEFAULT` to get the most up-to-date weights.\n",
      "  warnings.warn(msg)\n"
     ]
    }
   ],
   "source": [
    "import torch,torchvision\n",
    "\n",
    "# 导入模型\n",
    "model = torchvision.models.resnet18(pretrained=True)\n",
    "data = torch.rand(1, 3, 64, 64)\n",
    "labels = torch.rand(1, 1000)"
   ]
  },
  {
   "cell_type": "markdown",
   "id": "3d3d8a9e-d8fb-43e6-828b-c273a1854abe",
   "metadata": {},
   "source": [
    "##  导入数据库"
   ]
  },
  {
   "cell_type": "code",
   "execution_count": 2,
   "id": "a7770ad7-a898-475a-b94f-f16f0a388666",
   "metadata": {},
   "outputs": [],
   "source": [
    "prediction = model(data)\n",
    "# loss = (y-y^)\n",
    "loss = (prediction - labels).sum()\n",
    "ss = loss.backward() # backward pass"
   ]
  },
  {
   "cell_type": "markdown",
   "id": "8c7d488e-7fa5-44f5-a339-c354670976a1",
   "metadata": {},
   "source": [
    "在本例中为 SGD，学习率为 0.01，动量为 0.9。 我们在优化器中注册模型的所有参数。"
   ]
  },
  {
   "cell_type": "code",
   "execution_count": 3,
   "id": "ccd884b4-47e4-4e8e-9fa4-e3cec48bdb23",
   "metadata": {},
   "outputs": [],
   "source": [
    "optim = torch.optim.SGD(model.parameters(), lr=1e-2, momentum=0.9)\n",
    "# 优化\n",
    "optim.step()"
   ]
  },
  {
   "cell_type": "code",
   "execution_count": 6,
   "id": "b44c4b82-0015-4e5f-8050-7286e38bae04",
   "metadata": {},
   "outputs": [
    {
     "name": "stdout",
     "output_type": "stream",
     "text": [
      "None\n"
     ]
    }
   ],
   "source": [
    "print(labels.grad)"
   ]
  },
  {
   "cell_type": "markdown",
   "id": "bd781e58",
   "metadata": {},
   "source": [
    "## 加载"
   ]
  },
  {
   "cell_type": "code",
   "execution_count": null,
   "id": "cde57367-2f00-4c8a-a012-16f8673d2cd2",
   "metadata": {},
   "outputs": [],
   "source": [
    "import torch\n",
    "\n",
    "# 要求梯度下降\n",
    "a = torch.tensor([2., 3.], requires_grad=True)\n",
    "b = torch.tensor([6., 4.], requires_grad=True)\n",
    "Q = 3*a**3 - b**2\n",
    "print(a)"
   ]
  },
  {
   "cell_type": "code",
   "execution_count": null,
   "id": "23b45008-17fd-4626-ad41-1f17c6aac82d",
   "metadata": {},
   "outputs": [],
   "source": [
    "external_grad = torch.tensor([1., 1.])\n",
    "Q.backward(gradient=external_grad)\n",
    "print(a.grad)\n",
    "print(b.grad)"
   ]
  },
  {
   "cell_type": "markdown",
   "id": "0cff5d46-d295-435b-a5d7-c4165647221f",
   "metadata": {},
   "source": [
    "*解释*: a.grad保存了dQ/da的值，梯度为1\n",
    "\n",
    "下面是导数对照"
   ]
  },
  {
   "cell_type": "code",
   "execution_count": null,
   "id": "e9ed3d0d-87c6-4b83-ab5a-3a8e1795726d",
   "metadata": {},
   "outputs": [],
   "source": [
    "# check if collected gradients are correct\n",
    "print(9*a**2 == a.grad)\n",
    "print(-2*b == b.grad)"
   ]
  }
 ],
 "metadata": {
  "kernelspec": {
   "display_name": "mytestenv24",
   "language": "python",
   "name": "python3"
  },
  "language_info": {
   "codemirror_mode": {
    "name": "ipython",
    "version": 3
   },
   "file_extension": ".py",
   "mimetype": "text/x-python",
   "name": "python",
   "nbconvert_exporter": "python",
   "pygments_lexer": "ipython3",
   "version": "3.12.1"
  }
 },
 "nbformat": 4,
 "nbformat_minor": 5
}
