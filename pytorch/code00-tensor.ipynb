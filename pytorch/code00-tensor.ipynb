{
 "cells": [
  {
   "cell_type": "markdown",
   "id": "89e40aa1-f69b-4445-b3e6-a0154e645b6b",
   "metadata": {},
   "source": [
    "# 学前班\n",
    "\n",
    "## 张量"
   ]
  },
  {
   "cell_type": "code",
   "execution_count": 2,
   "id": "2c8fc0ba-4ad1-491d-9b8a-aa18b176d85a",
   "metadata": {},
   "outputs": [],
   "source": [
    "import torch\n",
    "import numpy as np"
   ]
  },
  {
   "cell_type": "markdown",
   "id": "ced406f6-adc2-40f1-ad06-8565573bf9b5",
   "metadata": {},
   "source": [
    "1. 直接引入"
   ]
  },
  {
   "cell_type": "code",
   "execution_count": 3,
   "id": "7dcb7e91-0f8d-4cff-ba54-749da287ef12",
   "metadata": {},
   "outputs": [],
   "source": [
    "data = [[1, 2], [3, 4]]\n",
    "x_data = torch.tensor(data)"
   ]
  },
  {
   "cell_type": "markdown",
   "id": "36cd9689-81b8-449c-b84b-9a20b3ec8132",
   "metadata": {},
   "source": [
    "2. np导入"
   ]
  },
  {
   "cell_type": "code",
   "execution_count": 5,
   "id": "b043e53b-931e-40ab-8ef5-22dacbabb136",
   "metadata": {},
   "outputs": [],
   "source": [
    "np_array = np.array(data)\n",
    "x_np = torch.from_numpy(np_array)"
   ]
  },
  {
   "cell_type": "markdown",
   "id": "a79f60a1-f58c-45c8-aea9-78c92afc4985",
   "metadata": {},
   "source": [
    "3. 使用其他的tensor导入"
   ]
  },
  {
   "cell_type": "code",
   "execution_count": 6,
   "id": "fb42a677-057f-49a3-9b13-df6cad855dc0",
   "metadata": {},
   "outputs": [
    {
     "name": "stdout",
     "output_type": "stream",
     "text": [
      "Ones Tensor: \n",
      " tensor([[1, 1],\n",
      "        [1, 1]]) \n",
      "\n",
      "Random Tensor: \n",
      " tensor([[0.8622, 0.8230],\n",
      "        [0.2171, 0.1911]]) \n",
      "\n"
     ]
    }
   ],
   "source": [
    "x_ones = torch.ones_like(x_data)   # 保留 x_data 的属性\n",
    "print(f\"Ones Tensor: \\n {x_ones} \\n\")\n",
    "\n",
    "x_rand = torch.rand_like(x_data, dtype=torch.float)   # 重写 x_data 的数据类型：int -> float\n",
    "print(f\"Random Tensor: \\n {x_rand} \\n\")"
   ]
  },
  {
   "cell_type": "markdown",
   "id": "26ab8034-937e-4cc2-9787-780eb06408bb",
   "metadata": {},
   "source": [
    "4. 使用维度随机构造张量"
   ]
  },
  {
   "cell_type": "code",
   "execution_count": 7,
   "id": "f911cfdf-fb78-4cf4-aafd-36fb63fc0f70",
   "metadata": {},
   "outputs": [
    {
     "name": "stdout",
     "output_type": "stream",
     "text": [
      "Random Tensor: \n",
      " tensor([[0.6115, 0.2992, 0.8743],\n",
      "        [0.7942, 0.0709, 0.4326]]) \n",
      "\n",
      "Ones Tensor: \n",
      " tensor([[1., 1., 1.],\n",
      "        [1., 1., 1.]]) \n",
      "\n",
      "Zeros Tensor: \n",
      " tensor([[0., 0., 0.],\n",
      "        [0., 0., 0.]])\n"
     ]
    }
   ],
   "source": [
    "shape = (2,3,)\n",
    "rand_tensor = torch.rand(shape)\n",
    "ones_tensor = torch.ones(shape)\n",
    "zeros_tensor = torch.zeros(shape)\n",
    "\n",
    "print(f\"Random Tensor: \\n {rand_tensor} \\n\")\n",
    "print(f\"Ones Tensor: \\n {ones_tensor} \\n\")\n",
    "print(f\"Zeros Tensor: \\n {zeros_tensor}\")"
   ]
  },
  {
   "cell_type": "markdown",
   "id": "6f79c9ff-31c0-48d3-87f8-c227159fdb18",
   "metadata": {},
   "source": [
    "## 张量的属性"
   ]
  },
  {
   "cell_type": "code",
   "execution_count": 9,
   "id": "7daa6c52-ddd0-4461-9822-c9ae3a1f98f7",
   "metadata": {},
   "outputs": [
    {
     "name": "stdout",
     "output_type": "stream",
     "text": [
      "Shape of tensor: torch.Size([3, 4])\n",
      "Datatype of tensor: torch.float32\n",
      "Device tensor is stored on: cpu\n"
     ]
    }
   ],
   "source": [
    "tensor = torch.rand(3,4)\n",
    "\n",
    "print(f\"Shape of tensor: {tensor.shape}\")\n",
    "print(f\"Datatype of tensor: {tensor.dtype}\")\n",
    "print(f\"Device tensor is stored on: {tensor.device}\")"
   ]
  },
  {
   "cell_type": "markdown",
   "id": "e13c5cd7-9394-41f0-bad4-ca67c8f4087b",
   "metadata": {},
   "source": [
    "## 张量的运算\n",
    "\n",
    "+ 加法\n",
    "+ 乘积和矩阵乘法"
   ]
  },
  {
   "cell_type": "code",
   "execution_count": 11,
   "id": "126ba20f-64ea-46a7-8785-48adc82c50e8",
   "metadata": {},
   "outputs": [
    {
     "name": "stdout",
     "output_type": "stream",
     "text": [
      "tensor.mul(tensor): \n",
      " tensor([[0.0009, 0.7582, 0.0275, 0.1456],\n",
      "        [0.7277, 0.1598, 0.0249, 0.1442],\n",
      "        [0.4733, 0.7593, 0.3654, 0.3731]]) \n",
      "\n",
      "tensor * tensor: \n",
      " tensor([[0.0009, 0.7582, 0.0275, 0.1456],\n",
      "        [0.7277, 0.1598, 0.0249, 0.1442],\n",
      "        [0.4733, 0.7593, 0.3654, 0.3731]])\n"
     ]
    }
   ],
   "source": [
    "# 逐个元素相乘结果\n",
    "print(f\"tensor.mul(tensor): \\n {tensor.mul(tensor)} \\n\")\n",
    "# 等价写法:\n",
    "print(f\"tensor * tensor: \\n {tensor * tensor}\")"
   ]
  },
  {
   "cell_type": "code",
   "execution_count": 12,
   "id": "7240dff7-384f-4df9-b078-dec0692ec25f",
   "metadata": {},
   "outputs": [
    {
     "name": "stdout",
     "output_type": "stream",
     "text": [
      "tensor.matmul(tensor.T): \n",
      " tensor([[0.9322, 0.5450, 1.1129],\n",
      "        [0.5450, 1.0566, 1.2626],\n",
      "        [1.1129, 1.2626, 1.9711]]) \n",
      "\n",
      "tensor @ tensor.T: \n",
      " tensor([[0.9322, 0.5450, 1.1129],\n",
      "        [0.5450, 1.0566, 1.2626],\n",
      "        [1.1129, 1.2626, 1.9711]])\n"
     ]
    }
   ],
   "source": [
    "print(f\"tensor.matmul(tensor.T): \\n {tensor.matmul(tensor.T)} \\n\")\n",
    "# 等价写法:\n",
    "print(f\"tensor @ tensor.T: \\n {tensor @ tensor.T}\")"
   ]
  },
  {
   "cell_type": "markdown",
   "id": "593e4c83-ec29-4c8e-ab9c-3cd93ec33043",
   "metadata": {},
   "source": [
    "## Tensor与Numpy的转化\n",
    "\n",
    "> 张量和Numpy array数组在CPU上可以共用一块内存区域, 改变其中一个另一个也会随之改变。"
   ]
  },
  {
   "cell_type": "markdown",
   "id": "c7f4dbcb-6a06-42bc-bb72-1a6b177066ce",
   "metadata": {},
   "source": [
    "1. 由张量变换为Numpy array数组"
   ]
  },
  {
   "cell_type": "code",
   "execution_count": 14,
   "id": "14f45fd8-bc6c-4172-93fb-da406a382b91",
   "metadata": {},
   "outputs": [
    {
     "name": "stdout",
     "output_type": "stream",
     "text": [
      "t: tensor([1., 1., 1., 1., 1.])\n",
      "n: [1. 1. 1. 1. 1.]\n"
     ]
    }
   ],
   "source": [
    "t = torch.ones(5)\n",
    "print(f\"t: {t}\")\n",
    "n = t.numpy()\n",
    "print(f\"n: {n}\")"
   ]
  },
  {
   "cell_type": "markdown",
   "id": "85d5fbe5-2ecd-4914-91c4-2585ea7bb7ba",
   "metadata": {},
   "source": [
    "2. 由Numpy array数组转为张量"
   ]
  },
  {
   "cell_type": "code",
   "execution_count": 15,
   "id": "711261d2-cda1-4b0f-8a2a-25f65576f88d",
   "metadata": {},
   "outputs": [],
   "source": [
    "n = np.ones(5)\n",
    "t = torch.from_numpy(n)"
   ]
  },
  {
   "cell_type": "code",
   "execution_count": 16,
   "id": "9c64668a-02f9-4d94-9f2c-a9b7a5771270",
   "metadata": {},
   "outputs": [
    {
     "name": "stdout",
     "output_type": "stream",
     "text": [
      "t: tensor([2., 2., 2., 2., 2.], dtype=torch.float64)\n",
      "n: [2. 2. 2. 2. 2.]\n"
     ]
    }
   ],
   "source": [
    "np.add(n, 1, out=n)\n",
    "print(f\"t: {t}\")\n",
    "print(f\"n: {n}\")"
   ]
  },
  {
   "cell_type": "code",
   "execution_count": null,
   "id": "86d2d101-04a2-429b-88bb-4aa5d6467545",
   "metadata": {},
   "outputs": [],
   "source": []
  }
 ],
 "metadata": {
  "kernelspec": {
   "display_name": "Python 3 (ipykernel)",
   "language": "python",
   "name": "python3"
  },
  "language_info": {
   "codemirror_mode": {
    "name": "ipython",
    "version": 3
   },
   "file_extension": ".py",
   "mimetype": "text/x-python",
   "name": "python",
   "nbconvert_exporter": "python",
   "pygments_lexer": "ipython3",
   "version": "3.12.1"
  }
 },
 "nbformat": 4,
 "nbformat_minor": 5
}
