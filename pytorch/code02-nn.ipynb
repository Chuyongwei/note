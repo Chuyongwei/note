{
 "cells": [
  {
   "cell_type": "markdown",
   "id": "510c1ba4-a78e-464f-8235-efcfa429d34a",
   "metadata": {},
   "source": [
    "# 卷积网\n",
    "\n",
    "这是一个简单的前馈网络。 它获取输入，将其一层又一层地馈入，然后最终给出输出。\n",
    "\n",
    "神经网络的典型训练过程如下：\n",
    "\n",
    "+ 定义具有一些可学习参数（或权重）的神经网络\n",
    "+ 遍历输入数据集\n",
    "+ 通过网络处理输入\n",
    "+ 计算损失（输出正确的距离有多远）\n",
    "+ 将梯度传播回网络参数\n",
    "+ 通常使用简单的更新规则来更新网络的权重：weight = weight - learning_rate * gradient"
   ]
  },
  {
   "cell_type": "markdown",
   "id": "799c9107-af55-407e-9b37-d664d619a63d",
   "metadata": {},
   "source": [
    "## 定义神经网络\n",
    "\n"
   ]
  },
  {
   "cell_type": "code",
   "execution_count": 1,
   "id": "0c209e1a-7244-43b8-b0f8-33a60a8af04a",
   "metadata": {},
   "outputs": [
    {
     "name": "stdout",
     "output_type": "stream",
     "text": [
      "Net(\n",
      "  (conv1): Conv2d(1, 6, kernel_size=(5, 5), stride=(1, 1))\n",
      "  (conv2): Conv2d(6, 16, kernel_size=(5, 5), stride=(1, 1))\n",
      "  (fc1): Linear(in_features=400, out_features=120, bias=True)\n",
      "  (fc2): Linear(in_features=120, out_features=84, bias=True)\n",
      "  (fc3): Linear(in_features=84, out_features=10, bias=True)\n",
      ")\n"
     ]
    }
   ],
   "source": [
    "import torch\n",
    "import torch.nn as nn\n",
    "import torch.nn.functional as F\n",
    "\n",
    "\n",
    "class Net(nn.Module):\n",
    "\n",
    "    def __init__(self):\n",
    "        super(Net, self).__init__()\n",
    "        # 1 input image channel, 6 output channels, 5x5 square convolution\n",
    "        # kernel\n",
    "        self.conv1 = nn.Conv2d(1, 6, 5)\n",
    "        self.conv2 = nn.Conv2d(6, 16, 5)\n",
    "        # an affine operation: y = Wx + b\n",
    "        self.fc1 = nn.Linear(16 * 5 * 5, 120)  # 5*5 from image dimension\n",
    "        self.fc2 = nn.Linear(120, 84)\n",
    "        self.fc3 = nn.Linear(84, 10)\n",
    "\n",
    "    def forward(self, x):\n",
    "        # Max pooling over a (2, 2) window\n",
    "        x = F.max_pool2d(F.relu(self.conv1(x)), (2, 2))\n",
    "        # If the size is a square, you can specify with a single number\n",
    "        x = F.max_pool2d(F.relu(self.conv2(x)), 2)\n",
    "        x = torch.flatten(x, 1) # flatten all dimensions except the batch dimension\n",
    "        x = F.relu(self.fc1(x))\n",
    "        x = F.relu(self.fc2(x))\n",
    "        x = self.fc3(x)\n",
    "        return x\n",
    "\n",
    "\n",
    "net = Net()\n",
    "print(net)"
   ]
  },
  {
   "cell_type": "markdown",
   "id": "dbc56e1c-68e6-4190-a4f7-acc368805bd6",
   "metadata": {},
   "source": [
    "您只需要定义forward函数，就可以使用autograd为您自动定义backward函数（计算梯度）。 您可以在forward函数中使用任何张量操作。\n",
    "\n",
    "模型的可学习参数由net.parameters()返回"
   ]
  },
  {
   "cell_type": "code",
   "execution_count": 11,
   "id": "d54fdb96-228e-498f-85c1-913710c22543",
   "metadata": {},
   "outputs": [
    {
     "name": "stdout",
     "output_type": "stream",
     "text": [
      "10\n",
      "torch.Size([6, 1, 5, 5])\n"
     ]
    }
   ],
   "source": [
    "params = list(net.parameters())\n",
    "# print(params)\n",
    "print(len(params))\n",
    "print(params[0].size())  # conv1's .weight"
   ]
  },
  {
   "cell_type": "markdown",
   "id": "bf87e5dc-0d12-4349-a72a-4c39ee18cfc0",
   "metadata": {},
   "source": [
    "测试"
   ]
  },
  {
   "cell_type": "code",
   "execution_count": 3,
   "id": "bad79b66-6cc9-409f-b967-ee4ce9c2fdfa",
   "metadata": {},
   "outputs": [
    {
     "name": "stdout",
     "output_type": "stream",
     "text": [
      "tensor([[-0.0525, -0.0464, -0.0624,  0.0031,  0.0683, -0.0623,  0.0894, -0.1268,\n",
      "         -0.0147, -0.0415]], grad_fn=<AddmmBackward0>)\n"
     ]
    }
   ],
   "source": [
    "input = torch.randn(1, 1, 32, 32)\n",
    "out = net(input)\n",
    "print(out)"
   ]
  },
  {
   "cell_type": "code",
   "execution_count": 4,
   "id": "38022d26-1b59-44b4-927f-cb89acb6feb1",
   "metadata": {},
   "outputs": [],
   "source": [
    "net.zero_grad()\n",
    "out.backward(torch.randn(1, 10))"
   ]
  },
  {
   "cell_type": "markdown",
   "id": "917e7f21-c346-4754-81d6-4fc236057204",
   "metadata": {},
   "source": [
    "**注意**\n",
    "\n",
    "torch.nn仅支持小批量。 整个torch.nn包仅支持作为微型样本而不是单个样本的输入。\n",
    "\n",
    "例如，nn.Conv2d将采用nSamples x nChannels x Height x Width的 4D 张量。\n",
    "\n",
    "如果您只有一个样本，只需使用input.unsqueeze(0)添加一个假批量尺寸。\n",
    "\n",
    "在继续之前，让我们回顾一下到目前为止所看到的所有类。"
   ]
  },
  {
   "cell_type": "markdown",
   "id": "b56469f5-e3b4-4dee-801e-46ec54592fa0",
   "metadata": {},
   "source": [
    "回顾：\n",
    "\n",
    "+ torch.Tensor-一个多维数组，支持诸如backward()的自动微分操作。 同样，保持相对于张量的梯度。\n",
    "+ nn.Module-神经网络模块。 封装参数的便捷方法，并带有将其移动到 GPU，导出，加载等的帮助器。\n",
    "+ nn.Parameter-一种张量，即将其分配为Module的属性时，自动注册为参数。\n",
    "+ autograd.Function-实现自动微分操作的正向和反向定义。 每个Tensor操作都会创建至少一个Function节点，该节点连接到创建Tensor的函数，并且编码其历史记录。\n",
    "\n",
    "目前为止，我们涵盖了：\n",
    "\n",
    "+ 定义神经网络\n",
    "+ 处理输入并向后调用"
   ]
  },
  {
   "cell_type": "markdown",
   "id": "a2e3e6df-29bf-43a7-a5a1-6638162fb539",
   "metadata": {},
   "source": [
    "## 损失函数\n",
    "\n",
    "损失函数采用一对（输出，目标）输入，并计算一个值，该值估计输出与目标之间的距离。\n",
    "\n",
    "nn包下有几种不同的损失函数。 一个简单的损失是：nn.MSELoss，它计算输入和目标之间的均方误差。"
   ]
  },
  {
   "cell_type": "code",
   "execution_count": 5,
   "id": "7bd68177-860c-41f3-875d-e05ff2a109c1",
   "metadata": {},
   "outputs": [
    {
     "name": "stdout",
     "output_type": "stream",
     "text": [
      "tensor(0.4313, grad_fn=<MseLossBackward0>)\n"
     ]
    }
   ],
   "source": [
    "output = net(input)\n",
    "target = torch.randn(10)  # a dummy target, for example\n",
    "target = target.view(1, -1)  # make it the same shape as output\n",
    "criterion = nn.MSELoss()\n",
    "\n",
    "loss = criterion(output, target)\n",
    "print(loss)"
   ]
  },
  {
   "cell_type": "code",
   "execution_count": 6,
   "id": "70316e8d-64b8-46c6-8982-3d7174b0ea1f",
   "metadata": {},
   "outputs": [
    {
     "name": "stdout",
     "output_type": "stream",
     "text": [
      "<MseLossBackward0 object at 0x000001A9DE3B3D60>\n"
     ]
    }
   ],
   "source": [
    "print(loss.grad_fn) # tensor的方法，记录了loss怎么来的"
   ]
  },
  {
   "cell_type": "code",
   "execution_count": 7,
   "id": "2948bb03-8a11-4eea-9c72-6900a047ffff",
   "metadata": {},
   "outputs": [
    {
     "name": "stdout",
     "output_type": "stream",
     "text": [
      "<MseLossBackward0 object at 0x000001A9E9315F00>\n",
      "<AddmmBackward0 object at 0x000001A9E9182080>\n",
      "<AccumulateGrad object at 0x000001A9E9182080>\n"
     ]
    }
   ],
   "source": [
    "print(loss.grad_fn)  # MSELoss\n",
    "print(loss.grad_fn.next_functions[0][0])  # Linear\n",
    "print(loss.grad_fn.next_functions[0][0].next_functions[0][0])  # ReLU"
   ]
  },
  {
   "cell_type": "markdown",
   "id": "5e002515-ca25-4534-9768-708a3f6fb33c",
   "metadata": {},
   "source": [
    "## 反向传播\n",
    "\n",
    "要反向传播误差，我们要做的只是对loss.backward()。 不过，您需要清除现有的梯度，否则梯度将累积到现有的梯度中。\n",
    "\n",
    "现在，我们将其称为loss.backward()，然后看一下向后前后conv1的偏差梯度。"
   ]
  },
  {
   "cell_type": "code",
   "execution_count": 8,
   "id": "1a5842a0-5701-41c2-84d8-055d15d63ef8",
   "metadata": {},
   "outputs": [
    {
     "name": "stdout",
     "output_type": "stream",
     "text": [
      "conv1.bias.grad before backward\n",
      "None\n",
      "conv1.bias.grad after backward\n",
      "tensor([ 0.0039, -0.0010,  0.0129, -0.0045,  0.0012, -0.0113])\n"
     ]
    }
   ],
   "source": [
    "net.zero_grad()     # zeroes the gradient buffers of all parameters\n",
    "\n",
    "print('conv1.bias.grad before backward')\n",
    "print(net.conv1.bias.grad)\n",
    "\n",
    "loss.backward()\n",
    "\n",
    "print('conv1.bias.grad after backward')\n",
    "print(net.conv1.bias.grad)"
   ]
  },
  {
   "cell_type": "markdown",
   "id": "286a2b01-d05b-4b1c-8268-f86c512e9f93",
   "metadata": {},
   "source": [
    "## 更新权重\n",
    "\n",
    "实践中使用的最简单的更新规则是随机梯度下降（SGD）：\n",
    "\n",
    "`weight = weight - learning_rate * gradient`\n",
    "\n",
    "我们可以使用简单的 Python 代码实现此目标："
   ]
  },
  {
   "cell_type": "code",
   "execution_count": 9,
   "id": "54dd8228-929f-4c65-b5f3-eb579c6ec0a0",
   "metadata": {},
   "outputs": [],
   "source": [
    "learning_rate = 0.01\n",
    "# net。parameters更新超参\n",
    "for f in net.parameters():\n",
    "    # sub_：减去参数，结果保存到f.data\n",
    "    f.data.sub_(f.grad.data * learning_rate)"
   ]
  },
  {
   "cell_type": "markdown",
   "id": "733cb100",
   "metadata": {},
   "source": [
    "## 带入了更新器的方法\n",
    "\n",
    "但是，在使用神经网络时，您希望使用各种不同的更新规则，例如 SGD，Nesterov-SGD，Adam，RMSProp 等。为实现此目的，我们构建了一个小包装：torch.optim，可实现所有这些方法。 使用它非常简单："
   ]
  },
  {
   "cell_type": "code",
   "execution_count": 10,
   "id": "cd4a403c-1d51-4d3e-8856-9d03d52ddb3c",
   "metadata": {},
   "outputs": [],
   "source": [
    "import torch.optim as optim\n",
    "\n",
    "# create your optimizer\n",
    "optimizer = optim.SGD(net.parameters(), lr=0.01)\n",
    "\n",
    "# in your training loop:\n",
    "optimizer.zero_grad()   # zero the gradient buffers\n",
    "output = net(input)\n",
    "loss = criterion(output, target)\n",
    "loss.backward()\n",
    "optimizer.step()    # Does the update"
   ]
  }
 ],
 "metadata": {
  "kernelspec": {
   "display_name": "mytestenv24",
   "language": "python",
   "name": "python3"
  },
  "language_info": {
   "codemirror_mode": {
    "name": "ipython",
    "version": 3
   },
   "file_extension": ".py",
   "mimetype": "text/x-python",
   "name": "python",
   "nbconvert_exporter": "python",
   "pygments_lexer": "ipython3",
   "version": "3.12.1"
  }
 },
 "nbformat": 4,
 "nbformat_minor": 5
}
